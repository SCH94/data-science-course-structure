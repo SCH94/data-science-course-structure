{
 "cells": [
  {
   "cell_type": "markdown",
   "metadata": {
    "slideshow": {
     "slide_type": "slide"
    }
   },
   "source": [
    "# Accessing XML with XPATH\n",
    "\n",
    "In the prior lessons on ElementTree and lxml.objectify, we encountered a few different ways—using methods and attributes—of navigating XML documents that are read into Python objects.  The XML world also provides a \"native\" language for navigating objects that is supported by many XML libraries.  These XPATH descriptions are language neutral while nonetheless feeling natural in a Python context.  Both `lxml.etree` and the Python standard library `xml.etree` support XPATH, with the standard library limiting itself to a useful subset."
   ]
  },
  {
   "cell_type": "markdown",
   "metadata": {
    "slideshow": {
     "slide_type": "subslide"
    }
   },
   "source": [
    "We can simply repeat the same selections that we made using other XML styles in previous lessons.  Note that since one XPATH option is recursive search of all elements, we do not need to perform a separate `.getroot()` call to utilize the tree."
   ]
  },
  {
   "cell_type": "code",
   "execution_count": 1,
   "metadata": {
    "slideshow": {
     "slide_type": "fragment"
    }
   },
   "outputs": [],
   "source": [
    "import xml.etree.ElementTree as ET\n",
    "tree = ET.parse('data/quran.xml')"
   ]
  },
  {
   "cell_type": "markdown",
   "metadata": {
    "slideshow": {
     "slide_type": "fragment"
    }
   },
   "source": [
    "```python\n",
    "# ElementTree style\n",
    "suras = tree.getroot().find('suracoll').findall('sura')\n",
    "[elem.text for elem in suras[100] if elem.tag == 'v']\n",
    "\n",
    "# objectify style\n",
    "tree.getroot().tstmt.suracoll.sura[100].v[:]\n",
    "```"
   ]
  },
  {
   "cell_type": "markdown",
   "metadata": {
    "slideshow": {
     "slide_type": "subslide"
    }
   },
   "source": [
    "For a first task, let us find the verses of Sura 101, as we did in other manners.  XPATH uses one-based indexing rather than Python's zero-based indexing.  Recursive search is indicated by a double slash `//`."
   ]
  },
  {
   "cell_type": "code",
   "execution_count": 8,
   "metadata": {
    "slideshow": {
     "slide_type": "fragment"
    }
   },
   "outputs": [
    {
     "data": {
      "text/plain": [
       "['The terrible calamity!',\n",
       " 'What is the terrible calamity!',\n",
       " 'And what will make you comprehend what the terrible calamity is?',\n",
       " 'The day on which men shall be as scattered moths,',\n",
       " 'And the mountains shall be as loosened wool.',\n",
       " 'Then as for him whose measure of good deeds is heavy,',\n",
       " 'He shall live a pleasant life.',\n",
       " 'And as for him whose measure of good deeds is light,',\n",
       " 'His abode shall be the abyss.',\n",
       " 'And what will make you know what it is?',\n",
       " 'A burning fire.']"
      ]
     },
     "execution_count": 8,
     "metadata": {},
     "output_type": "execute_result"
    }
   ],
   "source": [
    "# We can start from the tree, not only its root element\n",
    "[v.text for v in tree.findall('.//sura[101]/v')]"
   ]
  },
  {
   "cell_type": "markdown",
   "metadata": {
    "slideshow": {
     "slide_type": "subslide"
    }
   },
   "source": [
    "If we like, we can search starting with some nested element.  XPATH searches return lists of matching elements, even when only one is present."
   ]
  },
  {
   "cell_type": "code",
   "execution_count": 3,
   "metadata": {
    "slideshow": {
     "slide_type": "fragment"
    }
   },
   "outputs": [
    {
     "data": {
      "text/plain": [
       "'And the mountains shall be as loosened wool.'"
      ]
     },
     "execution_count": 3,
     "metadata": {},
     "output_type": "execute_result"
    }
   ],
   "source": [
    "quran = tree.getroot()\n",
    "sura101 = quran.findall('.//sura[101]')[0]\n",
    "sura101.findall('v[5]')[0].text"
   ]
  },
  {
   "cell_type": "code",
   "execution_count": 4,
   "metadata": {
    "slideshow": {
     "slide_type": "fragment"
    }
   },
   "outputs": [
    {
     "data": {
      "text/plain": [
       "'The Quran'"
      ]
     },
     "execution_count": 4,
     "metadata": {},
     "output_type": "execute_result"
    }
   ],
   "source": [
    "# Non-recursive, must nest path directly\n",
    "title = tree.findall('./coverpg/title')[0]\n",
    "title.text"
   ]
  },
  {
   "cell_type": "markdown",
   "metadata": {
    "slideshow": {
     "slide_type": "subslide"
    }
   },
   "source": [
    "We can search elements to find the first with a certain attribute."
   ]
  },
  {
   "cell_type": "code",
   "execution_count": 9,
   "metadata": {
    "slideshow": {
     "slide_type": "fragment"
    }
   },
   "outputs": [
    {
     "data": {
      "text/plain": [
       "<Element 'tstmt' at 0x7fbf601f7400>"
      ]
     },
     "execution_count": 9,
     "metadata": {},
     "output_type": "execute_result"
    }
   ],
   "source": [
    "tree.find('[@attr1]')"
   ]
  },
  {
   "cell_type": "markdown",
   "metadata": {
    "slideshow": {
     "slide_type": "fragment"
    }
   },
   "source": [
    "If an XPATH is not matched in the current object, it does not raise an exception, but simply returns an empty list to indicate that nothing matches."
   ]
  },
  {
   "cell_type": "code",
   "execution_count": 6,
   "metadata": {
    "slideshow": {
     "slide_type": "fragment"
    }
   },
   "outputs": [
    {
     "data": {
      "text/plain": [
       "[]"
      ]
     },
     "execution_count": 6,
     "metadata": {},
     "output_type": "execute_result"
    }
   ],
   "source": [
    "tree.findall('.//no/such/path')"
   ]
  },
  {
   "cell_type": "markdown",
   "metadata": {
    "slideshow": {
     "slide_type": "slide"
    }
   },
   "source": [
    "# Extras\n",
    "\n",
    "If you decide to use `lxml` instead of the standard library, some enhanced XPATH capabilities are present.  These include a selector `text()` to pull the text of an element directly using XPATH rather than as a Python attribute, and the ability to use regular expressions to match path patterns.  "
   ]
  },
  {
   "cell_type": "markdown",
   "metadata": {
    "slideshow": {
     "slide_type": "fragment"
    }
   },
   "source": [
    "While these capabilities are powerful and useful for heavy users of XML, the capabilities in the standard library are more than adequate for simplifying access to elements and searching trees."
   ]
  }
 ],
 "metadata": {
  "celltoolbar": "Slideshow",
  "kernelspec": {
   "display_name": "Python 3",
   "language": "python",
   "name": "python3"
  },
  "language_info": {
   "codemirror_mode": {
    "name": "ipython",
    "version": 3
   },
   "file_extension": ".py",
   "mimetype": "text/x-python",
   "name": "python",
   "nbconvert_exporter": "python",
   "pygments_lexer": "ipython3",
   "version": "3.8.2"
  }
 },
 "nbformat": 4,
 "nbformat_minor": 4
}
