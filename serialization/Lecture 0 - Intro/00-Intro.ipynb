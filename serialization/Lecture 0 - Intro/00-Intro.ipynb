{
 "cells": [
  {
   "cell_type": "markdown",
   "metadata": {
    "slideshow": {
     "slide_type": "slide"
    }
   },
   "source": [
    "# Data Serialization with Python\n",
    "\n",
    "This course aims at an intermediate level Python programmer.  We will assume you already have some familiarity with basic Python constructs like importing libraries, writing classes, variables, flow control, and similar topics an introductory course will have addressed.  However, we do not assume an advanced level of knowledge, nor do we assume experience with the specific tools and libraries these lessons will address."
   ]
  },
  {
   "cell_type": "markdown",
   "metadata": {
    "slideshow": {
     "slide_type": "slide"
    }
   },
   "source": [
    "## Instructor\n",
    "\n",
    "<img src=\"img/DQM-Millennium-Bridge-square.jpg\" align=\"right\" width=\"33%\"/>My name is David Mertz, and I am your instructor for these lessons.  I have been part of the Python community for over 20 years. During that time, I have been involved with the governance of the Python Software Foundation, and have worked as a developer, a writer, and a trainer.  In recent years I have  focused on Python's use in scientific computing and data science."
   ]
  },
  {
   "cell_type": "markdown",
   "metadata": {
    "slideshow": {
     "slide_type": "slide"
    }
   },
   "source": [
    "# Why Serialization?\n",
    "\n",
    "There are several key purposes for which data serialization, and correspondingly de-serialization, are important.  In one case, we simply wish to be able to persist data from a running Python program to resume computation later on, still utilizing the same data.  At other times, we would like to exchange data with other tools and programs, perhaps ones written in other programming languages altogether.  Data, of course, comes in many shapes and sizes, and can be utilized for many purposes."
   ]
  },
  {
   "cell_type": "markdown",
   "metadata": {
    "slideshow": {
     "slide_type": "slide"
    }
   },
   "source": [
    "## Pickles\n",
    "\n",
    "<img src=\"img/green-pickles-store-display-2255988.jpg\" align=\"right\" width=\"33%\"/>In these lessons we will look first at the pickle module of the Python standard library.  For most purposes within the Python ecosystem itself, pickle is your go-to serialization technique."
   ]
  },
  {
   "cell_type": "markdown",
   "metadata": {
    "slideshow": {
     "slide_type": "slide"
    }
   },
   "source": [
    "# Nested Data\n",
    "\n",
    "In the next several lessons, we will look at JSON, the Javascript Object Notation, which is widely used as a means of exchanging data among various programming languages and tools, in particular often associated with web services."
   ]
  },
  {
   "cell_type": "markdown",
   "metadata": {
    "slideshow": {
     "slide_type": "slide"
    }
   },
   "source": [
    "# Flat Data\n",
    "\n",
    "After looking at the structured and hierachical data often represented in JSON, we look at working with CSV and other delimited files, which are the most common means of representing tabular data and sharing it among different tools.  For the CSV lessons, we consider both the Python standard library and the popular third party library Pandas."
   ]
  },
  {
   "cell_type": "markdown",
   "metadata": {
    "slideshow": {
     "slide_type": "slide"
    }
   },
   "source": [
    "## Document Data\n",
    "\n",
    "<img src=\"img/800px-Sedna-xml-document-clustered.png\" align=\"right\" width=\"33%\"/>Moving further into the world of typically document-oriented data, we look at several Python libraries for working with XML data sources.  A large share of all documents in the world live as XML, and Python contains excellent tools for accessing those."
   ]
  },
  {
   "cell_type": "markdown",
   "metadata": {
    "slideshow": {
     "slide_type": "slide"
    }
   },
   "source": [
    "<img src=\"img/Hindu-arabic1.jpg\" align=\"right\" width=\"33%\"/>\n",
    "\n",
    "# Numeric Datasets\n",
    "\n",
    "In the final two lessons, we will look at formats specifically concerned with scientific and numeric data, often including very large datasets.  The NumPy array library and the HDF5 storage format are both discussed."
   ]
  },
  {
   "cell_type": "markdown",
   "metadata": {
    "slideshow": {
     "slide_type": "slide"
    }
   },
   "source": [
    "<img src=\"img/dqm-happy-sf.jpg\" align=\"right\" width=\"33%\"/>This course will provide with the background you need to select among data serialization techniques and decide which is appropriate for your purpose.  The exercises will give you hands-practice with the formats and approaches addressed in the lessons."
   ]
  }
 ],
 "metadata": {
  "celltoolbar": "Slideshow",
  "kernelspec": {
   "display_name": "Python 3",
   "language": "python",
   "name": "python3"
  },
  "language_info": {
   "codemirror_mode": {
    "name": "ipython",
    "version": 3
   },
   "file_extension": ".py",
   "mimetype": "text/x-python",
   "name": "python",
   "nbconvert_exporter": "python",
   "pygments_lexer": "ipython3",
   "version": "3.8.2"
  }
 },
 "nbformat": 4,
 "nbformat_minor": 4
}
