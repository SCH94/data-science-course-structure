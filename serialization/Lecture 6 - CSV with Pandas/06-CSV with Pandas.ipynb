{
 "cells": [
  {
   "cell_type": "markdown",
   "metadata": {
    "slideshow": {
     "slide_type": "slide"
    }
   },
   "source": [
    "# Reading CSV with Pandas\n",
    "\n",
    "If it is available in your environment, the `Pandas` package provides a versatile, flexible, and fast reader and writer of CSV and other delimited files.  Moreover, when read, delimited files are read into a flexible data structure called a DataFrame that has numerous useful methods.  The Pandas library can perform a great deal of work for data processing and data manipulation, but most of that is outside the scope of this lesson."
   ]
  },
  {
   "cell_type": "markdown",
   "metadata": {
    "slideshow": {
     "slide_type": "fragment"
    }
   },
   "source": [
    "Let us start out by loading the Pandas library and the CSV module.  Pandas is conventionally loaded as the short name `pd`.  Similarly, `NumPy` is conventionally loaded as `np`."
   ]
  },
  {
   "cell_type": "code",
   "execution_count": 1,
   "metadata": {
    "slideshow": {
     "slide_type": "fragment"
    }
   },
   "outputs": [],
   "source": [
    "import numpy as np\n",
    "import pandas as pd\n",
    "import csv"
   ]
  },
  {
   "cell_type": "markdown",
   "metadata": {
    "slideshow": {
     "slide_type": "slide"
    }
   },
   "source": [
    "# Basic Reading\n",
    "\n",
    "In principle, Pandas provides a huge number of options for reading CSV or other delimited files.  In fact, it has readers for a huge number of entirely different data formats as well.  In the simple case, it could hardly be simpler.  Let us look at a CSV file then read it to a DataFrame."
   ]
  },
  {
   "cell_type": "code",
   "execution_count": 2,
   "metadata": {
    "slideshow": {
     "slide_type": "fragment"
    }
   },
   "outputs": [
    {
     "name": "stdout",
     "output_type": "stream",
     "text": [
      "\"Name\",\"Evaluation\",\"Rating\",\"Age\"\r",
      "\r\n",
      "\"Mia Johnson\",\"The movie was excellent\",9.5,25\r",
      "\r\n",
      "\"Liam Lopez\",\"Didn't really like it\",3.0,35\r",
      "\r\n",
      "\"Isabella Lee\",\"Wow! That was great\",8.0,45\r",
      "\r\n",
      "\"Olivia Gupta\",\"Meh, not my thing\",2.5,55\r",
      "\r\n"
     ]
    }
   ],
   "source": [
    "!cat data/movie.csv"
   ]
  },
  {
   "cell_type": "code",
   "execution_count": 3,
   "metadata": {
    "slideshow": {
     "slide_type": "subslide"
    }
   },
   "outputs": [
    {
     "data": {
      "text/html": [
       "<div>\n",
       "<style scoped>\n",
       "    .dataframe tbody tr th:only-of-type {\n",
       "        vertical-align: middle;\n",
       "    }\n",
       "\n",
       "    .dataframe tbody tr th {\n",
       "        vertical-align: top;\n",
       "    }\n",
       "\n",
       "    .dataframe thead th {\n",
       "        text-align: right;\n",
       "    }\n",
       "</style>\n",
       "<table border=\"1\" class=\"dataframe\">\n",
       "  <thead>\n",
       "    <tr style=\"text-align: right;\">\n",
       "      <th></th>\n",
       "      <th>Name</th>\n",
       "      <th>Evaluation</th>\n",
       "      <th>Rating</th>\n",
       "      <th>Age</th>\n",
       "    </tr>\n",
       "  </thead>\n",
       "  <tbody>\n",
       "    <tr>\n",
       "      <th>0</th>\n",
       "      <td>Mia Johnson</td>\n",
       "      <td>The movie was excellent</td>\n",
       "      <td>9.5</td>\n",
       "      <td>25</td>\n",
       "    </tr>\n",
       "    <tr>\n",
       "      <th>1</th>\n",
       "      <td>Liam Lopez</td>\n",
       "      <td>Didn't really like it</td>\n",
       "      <td>3.0</td>\n",
       "      <td>35</td>\n",
       "    </tr>\n",
       "    <tr>\n",
       "      <th>2</th>\n",
       "      <td>Isabella Lee</td>\n",
       "      <td>Wow! That was great</td>\n",
       "      <td>8.0</td>\n",
       "      <td>45</td>\n",
       "    </tr>\n",
       "    <tr>\n",
       "      <th>3</th>\n",
       "      <td>Olivia Gupta</td>\n",
       "      <td>Meh, not my thing</td>\n",
       "      <td>2.5</td>\n",
       "      <td>55</td>\n",
       "    </tr>\n",
       "  </tbody>\n",
       "</table>\n",
       "</div>"
      ],
      "text/plain": [
       "           Name               Evaluation  Rating  Age\n",
       "0   Mia Johnson  The movie was excellent     9.5   25\n",
       "1    Liam Lopez    Didn't really like it     3.0   35\n",
       "2  Isabella Lee      Wow! That was great     8.0   45\n",
       "3  Olivia Gupta        Meh, not my thing     2.5   55"
      ]
     },
     "execution_count": 3,
     "metadata": {},
     "output_type": "execute_result"
    }
   ],
   "source": [
    "df = pd.read_csv(\"data/movie.csv\")\n",
    "df"
   ]
  },
  {
   "cell_type": "markdown",
   "metadata": {
    "slideshow": {
     "slide_type": "subslide"
    }
   },
   "source": [
    "## Data Types\n",
    "\n",
    "Or interest here especially is the type inference that was performed by Pandas.  Things that look like integers get converted to integers, things that look like floats get converted to floats."
   ]
  },
  {
   "cell_type": "code",
   "execution_count": 4,
   "metadata": {
    "slideshow": {
     "slide_type": "fragment"
    }
   },
   "outputs": [
    {
     "data": {
      "text/plain": [
       "Name           object\n",
       "Evaluation     object\n",
       "Rating        float64\n",
       "Age             int64\n",
       "dtype: object"
      ]
     },
     "execution_count": 4,
     "metadata": {},
     "output_type": "execute_result"
    }
   ],
   "source": [
    "df.dtypes"
   ]
  },
  {
   "cell_type": "markdown",
   "metadata": {
    "slideshow": {
     "slide_type": "subslide"
    }
   },
   "source": [
    "## Explicit Typing\n",
    "\n",
    "Pandas lets you specify the types of columns explicitly, inasmuch as datatypes make sense for a given column.  For the most part, this is useful only to encode in fewer bits or to explicitly use floats where a column might be inferred as integer."
   ]
  },
  {
   "cell_type": "code",
   "execution_count": 5,
   "metadata": {
    "slideshow": {
     "slide_type": "fragment"
    }
   },
   "outputs": [
    {
     "data": {
      "text/plain": [
       "Name           object\n",
       "Evaluation     object\n",
       "Rating        float32\n",
       "Age           float16\n",
       "dtype: object"
      ]
     },
     "execution_count": 5,
     "metadata": {},
     "output_type": "execute_result"
    }
   ],
   "source": [
    "df = pd.read_csv(\"data/movie.csv\", \n",
    "            dtype={'Age': np.float16, 'Rating': np.float32})\n",
    "df.dtypes"
   ]
  },
  {
   "cell_type": "markdown",
   "metadata": {
    "slideshow": {
     "slide_type": "subslide"
    }
   },
   "source": [
    "## Parsing Dates\n",
    "\n",
    "Pandas goes further than the standard library `csv` module can in also optionally parsing dates.  The next example not only has dates in an extra field, but in fact encodes the dates in multiple different formats.  If parsing a column as a date is specified, Pandas will attempt a large collection of heuristic rules to guess at what format was intended.  One of the dates given is accompanied by a particular time as well, down to a fraction of a second."
   ]
  },
  {
   "cell_type": "code",
   "execution_count": 6,
   "metadata": {
    "slideshow": {
     "slide_type": "subslide"
    }
   },
   "outputs": [
    {
     "name": "stdout",
     "output_type": "stream",
     "text": [
      "Name,Evaluation,Rating,Age,Date\r",
      "\r\n",
      "Mia Johnson,The movie was excellent,9.5,25,2020-06-08\r",
      "\r\n",
      "Liam Lopez,Didn't really like it,3.0,35,\"June 8, 2020\"\r",
      "\r\n",
      "Isabella Lee,Wow! That was great,8.0,45,2020-06-07\r",
      "\r\n",
      "Olivia Gupta,\"Meh, not my thing\",2.5,55,2020-06-06T12:12:12.1212\r",
      "\r\n"
     ]
    }
   ],
   "source": [
    "!cat data/movie-date.csv"
   ]
  },
  {
   "cell_type": "code",
   "execution_count": 7,
   "metadata": {
    "slideshow": {
     "slide_type": "fragment"
    }
   },
   "outputs": [
    {
     "data": {
      "text/html": [
       "<div>\n",
       "<style scoped>\n",
       "    .dataframe tbody tr th:only-of-type {\n",
       "        vertical-align: middle;\n",
       "    }\n",
       "\n",
       "    .dataframe tbody tr th {\n",
       "        vertical-align: top;\n",
       "    }\n",
       "\n",
       "    .dataframe thead th {\n",
       "        text-align: right;\n",
       "    }\n",
       "</style>\n",
       "<table border=\"1\" class=\"dataframe\">\n",
       "  <thead>\n",
       "    <tr style=\"text-align: right;\">\n",
       "      <th></th>\n",
       "      <th>Name</th>\n",
       "      <th>Evaluation</th>\n",
       "      <th>Rating</th>\n",
       "      <th>Age</th>\n",
       "      <th>Date</th>\n",
       "    </tr>\n",
       "  </thead>\n",
       "  <tbody>\n",
       "    <tr>\n",
       "      <th>0</th>\n",
       "      <td>Mia Johnson</td>\n",
       "      <td>The movie was excellent</td>\n",
       "      <td>9.5</td>\n",
       "      <td>25</td>\n",
       "      <td>2020-06-08 00:00:00.000000</td>\n",
       "    </tr>\n",
       "    <tr>\n",
       "      <th>1</th>\n",
       "      <td>Liam Lopez</td>\n",
       "      <td>Didn't really like it</td>\n",
       "      <td>3.0</td>\n",
       "      <td>35</td>\n",
       "      <td>2020-06-08 00:00:00.000000</td>\n",
       "    </tr>\n",
       "    <tr>\n",
       "      <th>2</th>\n",
       "      <td>Isabella Lee</td>\n",
       "      <td>Wow! That was great</td>\n",
       "      <td>8.0</td>\n",
       "      <td>45</td>\n",
       "      <td>2020-06-07 00:00:00.000000</td>\n",
       "    </tr>\n",
       "    <tr>\n",
       "      <th>3</th>\n",
       "      <td>Olivia Gupta</td>\n",
       "      <td>Meh, not my thing</td>\n",
       "      <td>2.5</td>\n",
       "      <td>55</td>\n",
       "      <td>2020-06-06 12:12:12.121200</td>\n",
       "    </tr>\n",
       "  </tbody>\n",
       "</table>\n",
       "</div>"
      ],
      "text/plain": [
       "           Name               Evaluation  Rating  Age  \\\n",
       "0   Mia Johnson  The movie was excellent     9.5   25   \n",
       "1    Liam Lopez    Didn't really like it     3.0   35   \n",
       "2  Isabella Lee      Wow! That was great     8.0   45   \n",
       "3  Olivia Gupta        Meh, not my thing     2.5   55   \n",
       "\n",
       "                        Date  \n",
       "0 2020-06-08 00:00:00.000000  \n",
       "1 2020-06-08 00:00:00.000000  \n",
       "2 2020-06-07 00:00:00.000000  \n",
       "3 2020-06-06 12:12:12.121200  "
      ]
     },
     "execution_count": 7,
     "metadata": {},
     "output_type": "execute_result"
    }
   ],
   "source": [
    "pd.read_csv('data/movie-date.csv', parse_dates=['Date'])"
   ]
  },
  {
   "cell_type": "markdown",
   "metadata": {
    "slideshow": {
     "slide_type": "slide"
    }
   },
   "source": [
    "# Format Variations\n",
    "\n",
    "By choosing from various available parameters, the same `pd.read_csv()` function can read most delimited formats.  For example, we can read the pipe (`|`) delimited file created in the last lesson that also had embedded newlines and quotes. The special value `NaN` (Not a Number) is used to mark missing data."
   ]
  },
  {
   "cell_type": "code",
   "execution_count": 8,
   "metadata": {
    "slideshow": {
     "slide_type": "fragment"
    }
   },
   "outputs": [
    {
     "name": "stdout",
     "output_type": "stream",
     "text": [
      "Name|Rating|Age\r",
      "\r\n",
      "\"Mia\r\n",
      "Johnson\"|9.5|25\r",
      "\r\n",
      "Liam Lopez||35\r",
      "\r\n",
      "\"Isabella \"\"Bella\"\" Lee\"|8.0|45\r",
      "\r\n"
     ]
    }
   ],
   "source": [
    "!cat data/movie.txt"
   ]
  },
  {
   "cell_type": "markdown",
   "metadata": {
    "slideshow": {
     "slide_type": "subslide"
    }
   },
   "source": [
    "Some of the parameters used in the below example are simply their default values. They are shown to illustrate the range of options."
   ]
  },
  {
   "cell_type": "code",
   "execution_count": 9,
   "metadata": {
    "slideshow": {
     "slide_type": "fragment"
    }
   },
   "outputs": [
    {
     "data": {
      "text/html": [
       "<div>\n",
       "<style scoped>\n",
       "    .dataframe tbody tr th:only-of-type {\n",
       "        vertical-align: middle;\n",
       "    }\n",
       "\n",
       "    .dataframe tbody tr th {\n",
       "        vertical-align: top;\n",
       "    }\n",
       "\n",
       "    .dataframe thead th {\n",
       "        text-align: right;\n",
       "    }\n",
       "</style>\n",
       "<table border=\"1\" class=\"dataframe\">\n",
       "  <thead>\n",
       "    <tr style=\"text-align: right;\">\n",
       "      <th></th>\n",
       "      <th>Name</th>\n",
       "      <th>Rating</th>\n",
       "      <th>Age</th>\n",
       "    </tr>\n",
       "  </thead>\n",
       "  <tbody>\n",
       "    <tr>\n",
       "      <th>0</th>\n",
       "      <td>Mia\\nJohnson</td>\n",
       "      <td>9.5</td>\n",
       "      <td>25</td>\n",
       "    </tr>\n",
       "    <tr>\n",
       "      <th>1</th>\n",
       "      <td>Liam Lopez</td>\n",
       "      <td>NaN</td>\n",
       "      <td>35</td>\n",
       "    </tr>\n",
       "    <tr>\n",
       "      <th>2</th>\n",
       "      <td>Isabella \"Bella\" Lee</td>\n",
       "      <td>8.0</td>\n",
       "      <td>45</td>\n",
       "    </tr>\n",
       "  </tbody>\n",
       "</table>\n",
       "</div>"
      ],
      "text/plain": [
       "                   Name  Rating  Age\n",
       "0          Mia\\nJohnson     9.5   25\n",
       "1            Liam Lopez     NaN   35\n",
       "2  Isabella \"Bella\" Lee     8.0   45"
      ]
     },
     "execution_count": 9,
     "metadata": {},
     "output_type": "execute_result"
    }
   ],
   "source": [
    "df = pd.read_csv('data/movie.txt', \n",
    "                 sep=\"|\", \n",
    "                 nrows=100, \n",
    "                 skip_blank_lines=True, \n",
    "                 decimal='.', \n",
    "                 quotechar='\"')\n",
    "df"
   ]
  },
  {
   "cell_type": "markdown",
   "metadata": {
    "slideshow": {
     "slide_type": "subslide"
    }
   },
   "source": [
    "Sometimes you will encounter CSV or other delimited files without headers.  A few options can handle that.  If we do not give parameters to indicate this, the DataFrame will be confused."
   ]
  },
  {
   "cell_type": "code",
   "execution_count": 10,
   "metadata": {
    "slideshow": {
     "slide_type": "fragment"
    }
   },
   "outputs": [
    {
     "data": {
      "text/html": [
       "<div>\n",
       "<style scoped>\n",
       "    .dataframe tbody tr th:only-of-type {\n",
       "        vertical-align: middle;\n",
       "    }\n",
       "\n",
       "    .dataframe tbody tr th {\n",
       "        vertical-align: top;\n",
       "    }\n",
       "\n",
       "    .dataframe thead th {\n",
       "        text-align: right;\n",
       "    }\n",
       "</style>\n",
       "<table border=\"1\" class=\"dataframe\">\n",
       "  <thead>\n",
       "    <tr style=\"text-align: right;\">\n",
       "      <th></th>\n",
       "      <th>Mia Johnson</th>\n",
       "      <th>The movie was excellent</th>\n",
       "      <th>9.5</th>\n",
       "      <th>25</th>\n",
       "    </tr>\n",
       "  </thead>\n",
       "  <tbody>\n",
       "    <tr>\n",
       "      <th>0</th>\n",
       "      <td>Liam Lopez</td>\n",
       "      <td>Didn't really like it</td>\n",
       "      <td>3.0</td>\n",
       "      <td>35</td>\n",
       "    </tr>\n",
       "    <tr>\n",
       "      <th>1</th>\n",
       "      <td>Isabella Lee</td>\n",
       "      <td>Wow! That was great</td>\n",
       "      <td>8.0</td>\n",
       "      <td>45</td>\n",
       "    </tr>\n",
       "    <tr>\n",
       "      <th>2</th>\n",
       "      <td>Olivia Gupta</td>\n",
       "      <td>Meh, not my thing</td>\n",
       "      <td>2.5</td>\n",
       "      <td>55</td>\n",
       "    </tr>\n",
       "  </tbody>\n",
       "</table>\n",
       "</div>"
      ],
      "text/plain": [
       "    Mia Johnson The movie was excellent  9.5  25\n",
       "0    Liam Lopez   Didn't really like it  3.0  35\n",
       "1  Isabella Lee     Wow! That was great  8.0  45\n",
       "2  Olivia Gupta       Meh, not my thing  2.5  55"
      ]
     },
     "execution_count": 10,
     "metadata": {},
     "output_type": "execute_result"
    }
   ],
   "source": [
    "pd.read_csv('data/movie-noheader.csv')"
   ]
  },
  {
   "cell_type": "code",
   "execution_count": 11,
   "metadata": {
    "slideshow": {
     "slide_type": "fragment"
    }
   },
   "outputs": [
    {
     "data": {
      "text/html": [
       "<div>\n",
       "<style scoped>\n",
       "    .dataframe tbody tr th:only-of-type {\n",
       "        vertical-align: middle;\n",
       "    }\n",
       "\n",
       "    .dataframe tbody tr th {\n",
       "        vertical-align: top;\n",
       "    }\n",
       "\n",
       "    .dataframe thead th {\n",
       "        text-align: right;\n",
       "    }\n",
       "</style>\n",
       "<table border=\"1\" class=\"dataframe\">\n",
       "  <thead>\n",
       "    <tr style=\"text-align: right;\">\n",
       "      <th></th>\n",
       "      <th>Person</th>\n",
       "      <th>Description</th>\n",
       "      <th>Score</th>\n",
       "      <th>Age</th>\n",
       "    </tr>\n",
       "  </thead>\n",
       "  <tbody>\n",
       "    <tr>\n",
       "      <th>0</th>\n",
       "      <td>Mia Johnson</td>\n",
       "      <td>The movie was excellent</td>\n",
       "      <td>9.5</td>\n",
       "      <td>25</td>\n",
       "    </tr>\n",
       "    <tr>\n",
       "      <th>1</th>\n",
       "      <td>Liam Lopez</td>\n",
       "      <td>Didn't really like it</td>\n",
       "      <td>3.0</td>\n",
       "      <td>35</td>\n",
       "    </tr>\n",
       "    <tr>\n",
       "      <th>2</th>\n",
       "      <td>Isabella Lee</td>\n",
       "      <td>Wow! That was great</td>\n",
       "      <td>8.0</td>\n",
       "      <td>45</td>\n",
       "    </tr>\n",
       "    <tr>\n",
       "      <th>3</th>\n",
       "      <td>Olivia Gupta</td>\n",
       "      <td>Meh, not my thing</td>\n",
       "      <td>2.5</td>\n",
       "      <td>55</td>\n",
       "    </tr>\n",
       "  </tbody>\n",
       "</table>\n",
       "</div>"
      ],
      "text/plain": [
       "         Person              Description  Score  Age\n",
       "0   Mia Johnson  The movie was excellent    9.5   25\n",
       "1    Liam Lopez    Didn't really like it    3.0   35\n",
       "2  Isabella Lee      Wow! That was great    8.0   45\n",
       "3  Olivia Gupta        Meh, not my thing    2.5   55"
      ]
     },
     "execution_count": 11,
     "metadata": {},
     "output_type": "execute_result"
    }
   ],
   "source": [
    "pd.read_csv('data/movie-noheader.csv', \n",
    "             names=['Person', 'Description', 'Score', 'Age'])"
   ]
  },
  {
   "cell_type": "markdown",
   "metadata": {
    "slideshow": {
     "slide_type": "slide"
    }
   },
   "source": [
    "# Exporting to CSV\n",
    "\n",
    "Once you *have* a Pandas DataFrame, whether constructed from scratch, read from any of numerous data formats, modified and filtered using Pandas methods, or whatever, it is easy to export it to a new CSV file.  This is not as completely general purpose as the Python `csv` module in that it is only a DataFrame that can do the writing, not arbitrary arrangements of data that you have manually programmed to write as records.  However, it is extremely straightforward, and allows generally the same numerous parameters as the reader."
   ]
  },
  {
   "cell_type": "code",
   "execution_count": 12,
   "metadata": {
    "slideshow": {
     "slide_type": "subslide"
    }
   },
   "outputs": [],
   "source": [
    "# Notice automatic compression based on extension\n",
    "df.to_csv('data/movie.tsv.gz', \n",
    "          sep='\\t', \n",
    "          na_rep=\"N/A\",\n",
    "          quotechar=\"'\")"
   ]
  },
  {
   "cell_type": "code",
   "execution_count": 13,
   "metadata": {
    "slideshow": {
     "slide_type": "fragment"
    }
   },
   "outputs": [
    {
     "name": "stdout",
     "output_type": "stream",
     "text": [
      "\tName\tRating\tAge\r\n",
      "0\t'Mia\r\n",
      "Johnson'\t9.5\t25\r\n",
      "1\tLiam Lopez\tN/A\t35\r\n",
      "2\tIsabella \"Bella\" Lee\t8.0\t45\r\n"
     ]
    }
   ],
   "source": [
    "!zcat data/movie.tsv.gz"
   ]
  },
  {
   "cell_type": "code",
   "execution_count": null,
   "metadata": {},
   "outputs": [],
   "source": []
  }
 ],
 "metadata": {
  "celltoolbar": "Slideshow",
  "kernelspec": {
   "display_name": "Python 3",
   "language": "python",
   "name": "python3"
  },
  "language_info": {
   "codemirror_mode": {
    "name": "ipython",
    "version": 3
   },
   "file_extension": ".py",
   "mimetype": "text/x-python",
   "name": "python",
   "nbconvert_exporter": "python",
   "pygments_lexer": "ipython3",
   "version": "3.8.2"
  }
 },
 "nbformat": 4,
 "nbformat_minor": 4
}
