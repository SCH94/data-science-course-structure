{
 "cells": [
  {
   "cell_type": "markdown",
   "metadata": {
    "slideshow": {
     "slide_type": "slide"
    }
   },
   "source": [
    "# Universal Python Serialization\n",
    "\n",
    "The first tool you should always think about when serializing Python objects is the native pickle format. A pickle can serialize *almost any* Python object in a binary format."
   ]
  },
  {
   "cell_type": "markdown",
   "metadata": {
    "slideshow": {
     "slide_type": "fragment"
    }
   },
   "source": [
    "More specialized protocols exist for serialization within a cluster computing frameworks. Cloudpickle is widely used for this purpose, but is not specifically discussed in this training.  Later in this training we will look at a variety of formats that Python can work with, but that are not specific to Python objects."
   ]
  },
  {
   "cell_type": "markdown",
   "metadata": {
    "slideshow": {
     "slide_type": "subslide"
    }
   },
   "source": [
    "Let us start out by loading a few Python standard library modules this lesson will utilize."
   ]
  },
  {
   "cell_type": "code",
   "execution_count": 1,
   "metadata": {
    "slideshow": {
     "slide_type": "fragment"
    }
   },
   "outputs": [],
   "source": [
    "import pickle\n",
    "import io\n",
    "from pprint import pprint\n",
    "from dataclasses import dataclass\n",
    "from zipfile import ZipFile\n",
    "from datetime import datetime"
   ]
  },
  {
   "cell_type": "markdown",
   "metadata": {
    "slideshow": {
     "slide_type": "subslide"
    }
   },
   "source": [
    "### A Byte Representation\n",
    "\n",
    "Let us create a dictionary and use pickle to serialize it in a binary form."
   ]
  },
  {
   "cell_type": "code",
   "execution_count": 2,
   "metadata": {
    "slideshow": {
     "slide_type": "fragment"
    }
   },
   "outputs": [
    {
     "name": "stdout",
     "output_type": "stream",
     "text": [
      "(b'\\x80\\x04\\x95g\\x00\\x00\\x00\\x00\\x00\\x00\\x00}'\n",
      " b'\\x94(\\x8c\\x04name\\x94\\x8c\\x05David'\n",
      " b'\\x94\\x8c\\x0breal_number\\x94G@S\"\\x8f\\\\(\\xf5\\xc3'\n",
      " b'\\x8c\\x05count\\x94K\\x16\\x8c\\x04pets\\x94]\\x94('\n",
      " b'\\x8c\\x08Astrophe\\x94\\x8c\\x07Kachina'\n",
      " b'\\x94\\x8c\\x07Jackson\\x94\\x8c\\x05Rebel\\x94eu.')\n"
     ]
    }
   ],
   "source": [
    "my_data = dict(name=\"David\", real_number=76.54, count=22,\n",
    "               pets=['Astrophe', 'Kachina', 'Jackson', 'Rebel'])\n",
    "\n",
    "pkl = pickle.dumps(my_data)\n",
    "pprint(pkl, width=50)"
   ]
  },
  {
   "cell_type": "markdown",
   "metadata": {
    "slideshow": {
     "slide_type": "slide"
    }
   },
   "source": [
    "## Same Values, Different Object\n",
    "\n",
    "Unpickling a serialization will create an *equivalent* object, but not an identical object.  It should not be confused with a shared memory or concurrency mechanism (pickles are a building block for *some* concurrency models, however)."
   ]
  },
  {
   "cell_type": "code",
   "execution_count": 3,
   "metadata": {
    "slideshow": {
     "slide_type": "fragment"
    }
   },
   "outputs": [
    {
     "data": {
      "text/plain": [
       "{'name': 'David',\n",
       " 'real_number': 76.54,\n",
       " 'count': 22,\n",
       " 'pets': ['Astrophe', 'Kachina', 'Jackson', 'Rebel']}"
      ]
     },
     "execution_count": 3,
     "metadata": {},
     "output_type": "execute_result"
    }
   ],
   "source": [
    "new_data = pickle.loads(pkl)\n",
    "new_data"
   ]
  },
  {
   "cell_type": "code",
   "execution_count": 4,
   "metadata": {
    "slideshow": {
     "slide_type": "fragment"
    }
   },
   "outputs": [
    {
     "name": "stdout",
     "output_type": "stream",
     "text": [
      "Equality: True\n",
      "Identity: False\n"
     ]
    }
   ],
   "source": [
    "print(\"Equality:\", new_data == my_data)\n",
    "print(\"Identity:\", new_data is my_data)"
   ]
  },
  {
   "cell_type": "markdown",
   "metadata": {
    "slideshow": {
     "slide_type": "subslide"
    }
   },
   "source": [
    "## Pickling to Files\n",
    "\n",
    "We can pickle to raw bytes, but for many or most purposes, it is useful to write these serializations to files.  The functions `.dump()` and `load()` serialize to file-like objects rather than create byte strings."
   ]
  },
  {
   "cell_type": "code",
   "execution_count": 5,
   "metadata": {
    "slideshow": {
     "slide_type": "fragment"
    }
   },
   "outputs": [],
   "source": [
    "with open('tmp/data.pkl', 'wb') as fh:\n",
    "    pickle.dump(my_data, fh)"
   ]
  },
  {
   "cell_type": "code",
   "execution_count": 6,
   "metadata": {
    "slideshow": {
     "slide_type": "fragment"
    }
   },
   "outputs": [
    {
     "name": "stdout",
     "output_type": "stream",
     "text": [
      "00000000  80 04 95 67 00 00 00 00  00 00 00 7d 94 28 8c 04  |...g.......}.(..|\n",
      "00000010  6e 61 6d 65 94 8c 05 44  61 76 69 64 94 8c 0b 72  |name...David...r|\n",
      "00000020  65 61 6c 5f 6e 75 6d 62  65 72 94 47 40 53 22 8f  |eal_number.G@S\".|\n",
      "00000030  5c 28 f5 c3 8c 05 63 6f  75 6e 74 94 4b 16 8c 04  |\\(....count.K...|\n",
      "00000040  70 65 74 73 94 5d 94 28  8c 08 41 73 74 72 6f 70  |pets.].(..Astrop|\n",
      "00000050  68 65 94 8c 07 4b 61 63  68 69 6e 61 94 8c 07 4a  |he...Kachina...J|\n",
      "00000060  61 63 6b 73 6f 6e 94 8c  05 52 65 62 65 6c 94 65  |ackson...Rebel.e|\n",
      "00000070  75 2e                                             |u.|\n",
      "00000072\n"
     ]
    }
   ],
   "source": [
    "%%bash\n",
    "hexdump -C tmp/data.pkl"
   ]
  },
  {
   "cell_type": "markdown",
   "metadata": {
    "slideshow": {
     "slide_type": "subslide"
    }
   },
   "source": [
    "## Reading Objects from Files\n",
    "\n",
    "Reading a pickle from a file—or from another file-like object—is exactly symmetrical with writing it.  With Python's so-called duck-typing, anything with a `.read()` method producing bytes allows unpickling.  Symmetrically, any object with a `.write()` method accepting bytes is suitable for pickling."
   ]
  },
  {
   "cell_type": "code",
   "execution_count": 7,
   "metadata": {
    "slideshow": {
     "slide_type": "fragment"
    }
   },
   "outputs": [
    {
     "data": {
      "text/plain": [
       "{'name': 'David',\n",
       " 'real_number': 76.54,\n",
       " 'count': 22,\n",
       " 'pets': ['Astrophe', 'Kachina', 'Jackson', 'Rebel']}"
      ]
     },
     "execution_count": 7,
     "metadata": {},
     "output_type": "execute_result"
    }
   ],
   "source": [
    "pickle.load(open('tmp/data.pkl', 'rb'))"
   ]
  },
  {
   "cell_type": "markdown",
   "metadata": {
    "slideshow": {
     "slide_type": "subslide"
    }
   },
   "source": [
    "### File-Like Objects\n",
    "\n",
    "A regular file on the local filesystem is a common location for pickles, but they might be available over a socket, or from a database connection with BLOB storage of pickles, or over an HTTP request, and so on.  For example, perhaps a zip file contains one or more pickles."
   ]
  },
  {
   "cell_type": "code",
   "execution_count": 8,
   "metadata": {
    "slideshow": {
     "slide_type": "fragment"
    }
   },
   "outputs": [
    {
     "name": "stdout",
     "output_type": "stream",
     "text": [
      "  adding: tmp/data.pkl (deflated 5%)\n"
     ]
    }
   ],
   "source": [
    "%%bash\n",
    "zip tmp/data tmp/data.pkl"
   ]
  },
  {
   "cell_type": "code",
   "execution_count": 9,
   "metadata": {
    "slideshow": {
     "slide_type": "fragment"
    }
   },
   "outputs": [
    {
     "name": "stdout",
     "output_type": "stream",
     "text": [
      "{'count': 22,\n",
      " 'name': 'David',\n",
      " 'pets': ['Astrophe', 'Kachina', 'Jackson', 'Rebel'],\n",
      " 'real_number': 76.54}\n"
     ]
    }
   ],
   "source": [
    "with ZipFile('tmp/data.zip') as zf:\n",
    "    with zf.open('tmp/data.pkl') as zfile:\n",
    "        pprint(pickle.load(zfile))"
   ]
  },
  {
   "cell_type": "markdown",
   "metadata": {
    "slideshow": {
     "slide_type": "subslide"
    }
   },
   "source": [
    "### Other File-Like Objects\n",
    "\n",
    "Python uses *duck-typing* quite extensively; a great many things are file-like.  For example, we might use a memory IO buffer as the equivalent of a file."
   ]
  },
  {
   "cell_type": "code",
   "execution_count": 10,
   "metadata": {
    "slideshow": {
     "slide_type": "fragment"
    }
   },
   "outputs": [
    {
     "data": {
      "text/plain": [
       "{'name': 'David',\n",
       " 'real_number': 76.54,\n",
       " 'count': 22,\n",
       " 'pets': ['Astrophe', 'Kachina', 'Jackson', 'Rebel']}"
      ]
     },
     "execution_count": 10,
     "metadata": {},
     "output_type": "execute_result"
    }
   ],
   "source": [
    "memfile = io.BytesIO(pkl)\n",
    "pickle.load(memfile)"
   ]
  },
  {
   "cell_type": "markdown",
   "metadata": {
    "slideshow": {
     "slide_type": "slide"
    }
   },
   "source": [
    "# Pickle Limitations\n",
    "\n",
    "Most Python objects can be pickled and unpickled.  A simple dictionary, with some scalars and one nested list, were used in the examples earlier.  You are not limited default data structures; however, there are a few limits.  If you pickle an instance of a class, the class itself needs to be available on the receiving system.  Often this is no problem, since the class is from a library installed at both ends.  "
   ]
  },
  {
   "cell_type": "markdown",
   "metadata": {
    "slideshow": {
     "slide_type": "subslide"
    }
   },
   "source": [
    "### Round-Trip with a DataClass\n",
    "\n",
    "Perhaps we wish to use a dataclass instead of a dictionary in a program."
   ]
  },
  {
   "cell_type": "code",
   "execution_count": 11,
   "metadata": {
    "slideshow": {
     "slide_type": "fragment"
    }
   },
   "outputs": [],
   "source": [
    "@dataclass\n",
    "class Trainer:\n",
    "    name: str\n",
    "    real_number: float\n",
    "    count: int\n",
    "    pets: list"
   ]
  },
  {
   "cell_type": "code",
   "execution_count": 12,
   "metadata": {
    "slideshow": {
     "slide_type": "fragment"
    }
   },
   "outputs": [
    {
     "data": {
      "text/plain": [
       "Trainer(name='David', real_number=76.54, count=22, pets=['Astrophe', 'Kachina', 'Jackson', 'Rebel'])"
      ]
     },
     "execution_count": 12,
     "metadata": {},
     "output_type": "execute_result"
    }
   ],
   "source": [
    "my_instance = Trainer(name=\"David\", real_number=76.54, count=22,\n",
    "                      pets=['Astrophe', 'Kachina', 'Jackson', 'Rebel'])\n",
    "my_instance"
   ]
  },
  {
   "cell_type": "code",
   "execution_count": 13,
   "metadata": {
    "slideshow": {
     "slide_type": "fragment"
    }
   },
   "outputs": [
    {
     "data": {
      "text/plain": [
       "Trainer(name='David', real_number=76.54, count=22, pets=['Astrophe', 'Kachina', 'Jackson', 'Rebel'])"
      ]
     },
     "execution_count": 13,
     "metadata": {},
     "output_type": "execute_result"
    }
   ],
   "source": [
    "pickle.loads(pickle.dumps(my_instance))"
   ]
  },
  {
   "cell_type": "markdown",
   "metadata": {
    "slideshow": {
     "slide_type": "subslide"
    }
   },
   "source": [
    "### Round-Trip with Datetimes\n",
    "\n",
    "Or we want to store and retrieve datetime values."
   ]
  },
  {
   "cell_type": "code",
   "execution_count": 14,
   "metadata": {
    "slideshow": {
     "slide_type": "fragment"
    }
   },
   "outputs": [
    {
     "data": {
      "text/plain": [
       "{'description': 'Developed Lesson',\n",
       " 'start': datetime.datetime(2020, 5, 22, 12, 11, 10),\n",
       " 'end': datetime.datetime(2020, 5, 23, 9, 10, 11)}"
      ]
     },
     "execution_count": 14,
     "metadata": {},
     "output_type": "execute_result"
    }
   ],
   "source": [
    "events = {'description': 'Developed Lesson',\n",
    "          'start': datetime.fromisoformat('2020-05-22T12:11:10'),\n",
    "          'end': datetime(2020, 5, 23, 9, 10, 11)}\n",
    "events"
   ]
  },
  {
   "cell_type": "code",
   "execution_count": 15,
   "metadata": {
    "slideshow": {
     "slide_type": "fragment"
    }
   },
   "outputs": [
    {
     "data": {
      "text/plain": [
       "{'description': 'Developed Lesson',\n",
       " 'start': datetime.datetime(2020, 5, 22, 12, 11, 10),\n",
       " 'end': datetime.datetime(2020, 5, 23, 9, 10, 11)}"
      ]
     },
     "execution_count": 15,
     "metadata": {},
     "output_type": "execute_result"
    }
   ],
   "source": [
    "pickle.loads(pickle.dumps(events))"
   ]
  },
  {
   "cell_type": "markdown",
   "metadata": {
    "slideshow": {
     "slide_type": "subslide"
    }
   },
   "source": [
    "### Missing Classes\n",
    "\n",
    "If the class we want is not available, or even simply lives in the wrong namespace, we will not succeed in unpickling.  For example, a pickle file is available, but the code defining the class of the pickled instance is not on the local system."
   ]
  },
  {
   "cell_type": "code",
   "execution_count": 16,
   "metadata": {
    "slideshow": {
     "slide_type": "fragment"
    }
   },
   "outputs": [
    {
     "name": "stdout",
     "output_type": "stream",
     "text": [
      "Can't get attribute 'My3DPoint' on <module '__main__'>\n"
     ]
    }
   ],
   "source": [
    "try:\n",
    "    with open('data/3dpoint.pkl', 'rb') as fh:\n",
    "        print(pickle.load(fh))\n",
    "except Exception as err:\n",
    "    print(err)"
   ]
  },
  {
   "cell_type": "markdown",
   "metadata": {
    "slideshow": {
     "slide_type": "subslide"
    }
   },
   "source": [
    "### Transient State\n",
    "\n",
    "Pickling is not directly possible for objects that are inherently impermanent.  For example, objects may represent file descriptors to the local filesystem or connections to a database.  The store the state of one particular computer at one particular time, and cannot be serialized."
   ]
  },
  {
   "cell_type": "code",
   "execution_count": 17,
   "metadata": {
    "slideshow": {
     "slide_type": "fragment"
    }
   },
   "outputs": [],
   "source": [
    "hello = \"¡Hola Mundo!\"\n",
    "num = 999\n",
    "fname = 'tmp/test.data'\n",
    "fd = open(fname, 'w')\n",
    "fd.write(hello)\n",
    "data = {'fd': fd, 'num': num, 'hello': hello}"
   ]
  },
  {
   "cell_type": "code",
   "execution_count": 18,
   "metadata": {
    "slideshow": {
     "slide_type": "fragment"
    }
   },
   "outputs": [
    {
     "name": "stdout",
     "output_type": "stream",
     "text": [
      "cannot pickle '_io.TextIOWrapper' object\n"
     ]
    }
   ],
   "source": [
    "try:\n",
    "    pickle.dumps(data)\n",
    "except Exception as err:\n",
    "    print(err)"
   ]
  },
  {
   "cell_type": "markdown",
   "metadata": {
    "slideshow": {
     "slide_type": "slide"
    }
   },
   "source": [
    "# Customizing Serialization\n",
    "\n",
    "If you wish to serialize and deserialize classes you create yourself, you are free to specify which data is actually necessary and relevant for recreating *equivalent* instances.  This customization can allow you to initialize transient state in manner to allow something close to round-tripping.  For example, a particular local file cannot be shared on a non-networked filesystem; however, unpickling might create a usable file local to the destination filesystem."
   ]
  },
  {
   "cell_type": "code",
   "execution_count": 19,
   "metadata": {
    "slideshow": {
     "slide_type": "fragment"
    }
   },
   "outputs": [],
   "source": [
    "class HelloNum:\n",
    "    \"Plain class that holds file descriptor\"\n",
    "    def __init__(self, fname, hello, num):\n",
    "        self.fd = open(fname, 'r+')\n",
    "        self.fd.write(hello)\n",
    "        self.num = num\n",
    "        \n",
    "    def __str__(self):\n",
    "        return (f\"<{self.__class__.__name__} holding file \"\n",
    "                f\"{self.fd.name}({self.fd.fileno()}) and num {self.num}>\")"
   ]
  },
  {
   "cell_type": "markdown",
   "metadata": {
    "slideshow": {
     "slide_type": "subslide"
    }
   },
   "source": [
    "We can add the capability of serializing the most important information in an instance to a simple tuple (another structure would work also; e.g. a list, a dict, a namedtuple, etc)."
   ]
  },
  {
   "cell_type": "code",
   "execution_count": 20,
   "metadata": {
    "slideshow": {
     "slide_type": "fragment"
    }
   },
   "outputs": [],
   "source": [
    "class HelloNum2(HelloNum):\n",
    "    \"Add the ability to pickle the essential data\"\n",
    "    def __getstate__(self):\n",
    "        pos = self.fd.tell()\n",
    "        self.fd.flush()\n",
    "        self.fd.seek(0)\n",
    "        hello = self.fd.read()\n",
    "        self.fd.seek(pos)\n",
    "        data = (self.fd.name, # fname\n",
    "                hello,   # file content\n",
    "                self.num)\n",
    "        print(\"Pickling tuple only...\")\n",
    "        return data"
   ]
  },
  {
   "cell_type": "markdown",
   "metadata": {
    "slideshow": {
     "slide_type": "subslide"
    }
   },
   "source": [
    "The `.__init__()` of a class is not called during unpickling.  By default its `.__dict__` is simply restored.  We can make our class do something different from that."
   ]
  },
  {
   "cell_type": "code",
   "execution_count": 21,
   "metadata": {
    "slideshow": {
     "slide_type": "fragment"
    }
   },
   "outputs": [],
   "source": [
    "class HelloNum3(HelloNum2):\n",
    "    \"Add the ability to reconstruct local state\"\n",
    "    def __setstate__(self, data):\n",
    "        self.fd = open(data[0], 'r+')\n",
    "        self.fd.write(data[1])\n",
    "        self.num = data[2]"
   ]
  },
  {
   "cell_type": "markdown",
   "metadata": {
    "slideshow": {
     "slide_type": "subslide"
    }
   },
   "source": [
    "Let us create an instance then round-trip it."
   ]
  },
  {
   "cell_type": "code",
   "execution_count": 22,
   "metadata": {
    "slideshow": {
     "slide_type": "fragment"
    }
   },
   "outputs": [
    {
     "name": "stdout",
     "output_type": "stream",
     "text": [
      "<HelloNum3 holding file tmp/test.data(46) and num 999>\n"
     ]
    }
   ],
   "source": [
    "hi = HelloNum3(fname, hello, num)\n",
    "print(hi)"
   ]
  },
  {
   "cell_type": "code",
   "execution_count": 23,
   "metadata": {
    "slideshow": {
     "slide_type": "fragment"
    }
   },
   "outputs": [
    {
     "name": "stdout",
     "output_type": "stream",
     "text": [
      "Pickling tuple only...\n",
      "(b'\\x80\\x04\\x95C\\x00\\x00\\x00\\x00\\x00\\x00\\x00\\x8c\\x08__main_'\n",
      " b'_\\x94\\x8c\\tHelloNum3\\x94\\x93\\x94)\\x81\\x94\\x8c\\rtmp/tes'\n",
      " b't.data\\x94\\x8c\\r\\xc2\\xa1Hola Mundo!\\x94M\\xe7\\x03\\x87\\x94'\n",
      " b'b.')\n"
     ]
    }
   ],
   "source": [
    "pkl = pickle.dumps(hi)\n",
    "pprint(pkl, width=60)"
   ]
  },
  {
   "cell_type": "markdown",
   "metadata": {
    "slideshow": {
     "slide_type": "subslide"
    }
   },
   "source": [
    "We can unpickle and get a suitable instance.  The crucial detail to notice is that the file number of the file descriptor has change.  De-serialization creates a new file on the target system and populates it with the same content.  But it is a distinct file that will not be synchronized with the sending system in any way."
   ]
  },
  {
   "cell_type": "code",
   "execution_count": 24,
   "metadata": {
    "slideshow": {
     "slide_type": "fragment"
    }
   },
   "outputs": [
    {
     "name": "stdout",
     "output_type": "stream",
     "text": [
      "<HelloNum3 holding file tmp/test.data(47) and num 999>\n"
     ]
    }
   ],
   "source": [
    "new_hi = pickle.loads(pkl)\n",
    "print(new_hi)"
   ]
  }
 ],
 "metadata": {
  "celltoolbar": "Slideshow",
  "kernelspec": {
   "display_name": "Python 3",
   "language": "python",
   "name": "python3"
  },
  "language_info": {
   "codemirror_mode": {
    "name": "ipython",
    "version": 3
   },
   "file_extension": ".py",
   "mimetype": "text/x-python",
   "name": "python",
   "nbconvert_exporter": "python",
   "pygments_lexer": "ipython3",
   "version": "3.8.2"
  }
 },
 "nbformat": 4,
 "nbformat_minor": 4
}
