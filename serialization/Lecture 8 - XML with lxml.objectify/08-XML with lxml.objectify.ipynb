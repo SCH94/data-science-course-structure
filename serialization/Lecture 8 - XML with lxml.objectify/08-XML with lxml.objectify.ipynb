{
 "cells": [
  {
   "cell_type": "markdown",
   "metadata": {
    "slideshow": {
     "slide_type": "slide"
    }
   },
   "source": [
    "# Reading XML with lxml.objectify\n",
    "\n",
    "The *ElementTree* abstraction tries to find a compromise between an XML way of thinking and a Python way of thinking.  The Python standard library also comes with several other submodules for handling XML that are much closer to the XML way of thinking.  These include `xml.dom` (Document Object Model), `xml.sax` (Simple API for XML), and ` xml.parsers.expat`.  "
   ]
  },
  {
   "cell_type": "markdown",
   "metadata": {
    "slideshow": {
     "slide_type": "fragment"
    }
   },
   "source": [
    "SAX and Expat are incremental stream-oriented parsers for XML, they both can be very fast and work incrementally. Both require quite a lot of boilerplate and are low-level. Expat is always non-validating, and can be blazingly fast.  The Document Object Model (DOM) creates an entire specialized object, with a variety of methods, as does ElementTree.  However, DOM is a standard created initially for JavaScript, and the method names are verbose, numerous, and feel out of place in Python.  Unless you need to closely match parallel code written in a language such as Java, JavaScript, or C#, I recommend against using the DOM approach."
   ]
  },
  {
   "cell_type": "markdown",
   "metadata": {
    "slideshow": {
     "slide_type": "subslide"
    }
   },
   "source": [
    "If you want to work in a *more Pythonic* style with XML trees, the `lxml` library comes with an API called `objectify`.  This is based on much earlier work by my colleague Uche Ogbuji on Amara bindery and by me even earlier as `gnosis.xml.objectify`.  Neither of those old projects are currently maintained, but `lxml.objectify` is very similar and intuitive to work with.  In general `lxml` is a fast and well tested XML library, built on `libxml2` and `libxslt`, that provides both the `objectify` interface and an enhanced and faster version of `ElementTree`."
   ]
  },
  {
   "cell_type": "markdown",
   "metadata": {
    "slideshow": {
     "slide_type": "slide"
    }
   },
   "source": [
    "# A More Pythonic Approach"
   ]
  },
  {
   "cell_type": "code",
   "execution_count": 1,
   "metadata": {
    "slideshow": {
     "slide_type": "fragment"
    }
   },
   "outputs": [],
   "source": [
    "from lxml import etree\n",
    "from lxml import objectify"
   ]
  },
  {
   "cell_type": "markdown",
   "metadata": {
    "slideshow": {
     "slide_type": "fragment"
    }
   },
   "source": [
    "Recall that the marked up version of the Quran as XML we worked with in the last lesson looks something like this:"
   ]
  },
  {
   "cell_type": "markdown",
   "metadata": {
    "slideshow": {
     "slide_type": "fragment"
    }
   },
   "source": [
    "```xml\n",
    "<?xml version=\"1.0\"?>\n",
    "<!DOCTYPE tstmt SYSTEM \"../common/tstmt.dtd\">\n",
    "<tstmt  attr1=\"Test1\" attr2=\"Test2\">\n",
    "<coverpg>\n",
    "<title>The Quran</title>\n",
    "<!-- some elements omitted -->    \n",
    "</coverpg>\n",
    "```"
   ]
  },
  {
   "cell_type": "markdown",
   "metadata": {
    "slideshow": {
     "slide_type": "subslide"
    }
   },
   "source": [
    "Continuing a fragment of the XML:"
   ]
  },
  {
   "cell_type": "markdown",
   "metadata": {
    "slideshow": {
     "slide_type": "fragment"
    }
   },
   "source": [
    "```xml\n",
    "<suracoll>\n",
    "<sura>\n",
    "<bktlong>1. The Opening</bktlong>\n",
    "<bktshort>1. The Opening</bktshort>\n",
    "<v>In the name of Allah, the Beneficent, the Merciful.</v>\n",
    "<v>All praise is due to Allah, the Lord of the Worlds.</v>\n",
    "<v>The Beneficent, the Merciful.</v>\n",
    "<v>Master of the Day of Judgment.</v>\n",
    "<!-- continues -->\n",
    "</sura>\n",
    "</suracoll>\n",
    "```"
   ]
  },
  {
   "cell_type": "markdown",
   "metadata": {
    "slideshow": {
     "slide_type": "subslide"
    }
   },
   "source": [
    "If we wish to use the ElementTree interface (here as `lxml.etree`) to create a list of the verses in Sura 101, we would write code similar to this:"
   ]
  },
  {
   "cell_type": "code",
   "execution_count": 2,
   "metadata": {
    "slideshow": {
     "slide_type": "fragment"
    }
   },
   "outputs": [
    {
     "data": {
      "text/plain": [
       "['The terrible calamity!',\n",
       " 'What is the terrible calamity!',\n",
       " 'And what will make you comprehend what the terrible calamity is?',\n",
       " 'The day on which men shall be as scattered moths,',\n",
       " 'And the mountains shall be as loosened wool.',\n",
       " 'Then as for him whose measure of good deeds is heavy,',\n",
       " 'He shall live a pleasant life.',\n",
       " 'And as for him whose measure of good deeds is light,',\n",
       " 'His abode shall be the abyss.',\n",
       " 'And what will make you know what it is?',\n",
       " 'A burning fire.']"
      ]
     },
     "execution_count": 2,
     "metadata": {},
     "output_type": "execute_result"
    }
   ],
   "source": [
    "tree = etree.parse('data/quran.xml')\n",
    "quran = tree.getroot()\n",
    "\n",
    "suras = quran.find('suracoll').findall('sura')\n",
    "[elem.text for elem in suras[100] if elem.tag == 'v']"
   ]
  },
  {
   "cell_type": "markdown",
   "metadata": {
    "slideshow": {
     "slide_type": "subslide"
    }
   },
   "source": [
    "In contrast, the objectify approach treats the nested elements and attributes as if they were simply attributes of a native Python object with nested data.  XML attributes are accessed with the Python attribute `.attrib`.  Text is accessed with the Python attribute `.text`.  Child elements that occur in parallel are simply presented as a list-like collection.  Reading in the XML data has similar boilerplate as ElementTree, but working with it often feels more natural."
   ]
  },
  {
   "cell_type": "code",
   "execution_count": 3,
   "metadata": {
    "slideshow": {
     "slide_type": "fragment"
    }
   },
   "outputs": [
    {
     "data": {
      "text/plain": [
       "['The terrible calamity!',\n",
       " 'What is the terrible calamity!',\n",
       " 'And what will make you comprehend what the terrible calamity is?',\n",
       " 'The day on which men shall be as scattered moths,',\n",
       " 'And the mountains shall be as loosened wool.',\n",
       " 'Then as for him whose measure of good deeds is heavy,',\n",
       " 'He shall live a pleasant life.',\n",
       " 'And as for him whose measure of good deeds is light,',\n",
       " 'His abode shall be the abyss.',\n",
       " 'And what will make you know what it is?',\n",
       " 'A burning fire.']"
      ]
     },
     "execution_count": 3,
     "metadata": {},
     "output_type": "execute_result"
    }
   ],
   "source": [
    "doc = objectify.parse(open('data/quran.xml'))\n",
    "quran_o = objectify.E.root(doc.getroot())\n",
    "\n",
    "quran_o.tstmt.suracoll.sura[100].v[:]"
   ]
  },
  {
   "cell_type": "markdown",
   "metadata": {
    "slideshow": {
     "slide_type": "subslide"
    }
   },
   "source": [
    "If we want to see the XML attributes, they are provided as a dictionary."
   ]
  },
  {
   "cell_type": "code",
   "execution_count": 4,
   "metadata": {
    "slideshow": {
     "slide_type": "fragment"
    }
   },
   "outputs": [
    {
     "name": "stdout",
     "output_type": "stream",
     "text": [
      "{'attr1': 'Test1', 'attr2': 'Test2'}\n",
      "The Quran {}\n"
     ]
    }
   ],
   "source": [
    "print(quran_o.tstmt.attrib)\n",
    "title = quran_o.tstmt.coverpg.title\n",
    "print(title, title.attrib) # No attributes"
   ]
  },
  {
   "cell_type": "markdown",
   "metadata": {
    "slideshow": {
     "slide_type": "fragment"
    }
   },
   "source": [
    "Accessing a different path into nested elements."
   ]
  },
  {
   "cell_type": "code",
   "execution_count": 5,
   "metadata": {
    "slideshow": {
     "slide_type": "fragment"
    }
   },
   "outputs": [
    {
     "data": {
      "text/plain": [
       "'101. The Terrible Calamity'"
      ]
     },
     "execution_count": 5,
     "metadata": {},
     "output_type": "execute_result"
    }
   ],
   "source": [
    "quran_o.tstmt.suracoll.sura[100].bktlong"
   ]
  },
  {
   "cell_type": "markdown",
   "metadata": {
    "slideshow": {
     "slide_type": "subslide"
    }
   },
   "source": [
    "In a design compromise, a shortcut to selecting the first of several parallel children is to simply omit indexing."
   ]
  },
  {
   "cell_type": "code",
   "execution_count": 6,
   "metadata": {
    "slideshow": {
     "slide_type": "fragment"
    }
   },
   "outputs": [
    {
     "data": {
      "text/plain": [
       "'The terrible calamity!'"
      ]
     },
     "execution_count": 6,
     "metadata": {},
     "output_type": "execute_result"
    }
   ],
   "source": [
    "quran_o.tstmt.suracoll.sura[100].v"
   ]
  },
  {
   "cell_type": "markdown",
   "metadata": {
    "slideshow": {
     "slide_type": "subslide"
    }
   },
   "source": [
    "Often working with objectify allows you to access the portions of interest without needing loops or comprehensions, as in the above examples.  However, these approaches can be combined, as needed.  For example, here are the first three lines of each of the last 4 Suras."
   ]
  },
  {
   "cell_type": "code",
   "execution_count": 7,
   "metadata": {
    "slideshow": {
     "slide_type": "fragment"
    }
   },
   "outputs": [
    {
     "data": {
      "text/plain": [
       "[['Perdition overtake both hands of Abu Lahab, and he will perish.',\n",
       "  'His wealth and what he earns will not avail him.',\n",
       "  'He shall soon burn in fire that flames,'],\n",
       " ['Say: He, Allah, is One.',\n",
       "  'Allah is He on Whom all depend.',\n",
       "  'He begets not, nor is He begotten.'],\n",
       " ['Say: I seek refuge in the Lord of the dawn,',\n",
       "  'From the evil of what He has created,',\n",
       "  'And from the evil of the utterly dark night when it comes,'],\n",
       " ['Say: I seek refuge in the Lord of men,',\n",
       "  'The King of men,',\n",
       "  'The God of men,']]"
      ]
     },
     "execution_count": 7,
     "metadata": {},
     "output_type": "execute_result"
    }
   ],
   "source": [
    "[sura.v[:3] for sura in quran_o.tstmt.suracoll.sura[-4:]]"
   ]
  },
  {
   "cell_type": "markdown",
   "metadata": {
    "slideshow": {
     "slide_type": "subslide"
    }
   },
   "source": [
    "## Serializing an Element\n",
    "\n",
    "Rather than using `.dump` which is generally only for debugging purposes, the function `etree.tostring()` can serialize a subelement as a complete XML document (adding namespace declarations or other needed elements to be complete documents rather than fragments)."
   ]
  },
  {
   "cell_type": "code",
   "execution_count": 8,
   "metadata": {
    "slideshow": {
     "slide_type": "subslide"
    }
   },
   "outputs": [
    {
     "name": "stdout",
     "output_type": "stream",
     "text": [
      "<sura xmlns:py=\"http://codespeak.net/lxml/objectify/pytype\" xmlns:xsi=\"http://www.w3.org/2001/XMLSchema-instance\" xmlns:xsd=\"http://www.w3.org/2001/XMLSchema\">\n",
      "  <bktlong>101. The Terrible Calamity</bktlong>\n",
      "  <bktshort>101. The Terrible Calamity</bktshort>\n",
      "  <epigraph>In the Name of Allah, the Beneficent, the Merciful.\n",
      "</epigraph>\n",
      "  <v>The terrible calamity!</v>\n",
      "  <v>What is the terrible calamity!</v>\n",
      "  <v>And what will make you comprehend what the terrible calamity is?</v>\n",
      "  <v>The day on which men shall be as scattered moths,</v>\n",
      "  <v>And the mountains shall be as loosened wool.</v>\n",
      "  <v>Then as for him whose measure of good deeds is heavy,</v>\n",
      "  <v>He shall live a pleasant life.</v>\n",
      "  <v>And as for him whose measure of good deeds is light,</v>\n",
      "  <v>His abode shall be the abyss.</v>\n",
      "  <v>And what will make you know what it is?</v>\n",
      "  <v>A burning fire.</v>\n",
      "</sura>\n",
      "\n"
     ]
    }
   ],
   "source": [
    "sura101 = quran_o.tstmt.suracoll.sura[100]\n",
    "sura_xml = etree.tostring(sura101, pretty_print=True)\n",
    "print(sura_xml.decode('utf-8'))"
   ]
  },
  {
   "cell_type": "markdown",
   "metadata": {
    "slideshow": {
     "slide_type": "subslide"
    }
   },
   "source": [
    "Adding or modifying elements is similar to ElementTree."
   ]
  },
  {
   "cell_type": "code",
   "execution_count": 9,
   "metadata": {
    "slideshow": {
     "slide_type": "fragment"
    }
   },
   "outputs": [],
   "source": [
    "child = objectify.SubElement(sura101, \"external\", silly=\"yes\")\n",
    "child._setText(\"*** This text is not part of Quran! ***\")"
   ]
  },
  {
   "cell_type": "code",
   "execution_count": 10,
   "metadata": {
    "slideshow": {
     "slide_type": "fragment"
    }
   },
   "outputs": [
    {
     "name": "stdout",
     "output_type": "stream",
     "text": [
      "<sura xmlns:py=\"http://codespeak.net/lxml/objectify/pytype\" xmlns:xsi=\"http://www.w3.org/2001/XMLSchema-instance\" xmlns:xsd=\"http://www.w3.org/2001/XMLSchema\">\n",
      "  <bktlong>101. The Terrible Calamity</bktlong>\n",
      "  <bktshort>101. The Terrible Calamity</bktshort>\n",
      "  <epigraph>In the Name of Allah, the Beneficent, the Merciful.\n",
      "</epigraph>\n",
      "  <v>The terrible calamity!</v>\n",
      "  <v>What is the terrible calamity!</v>\n",
      "  <v>And what will make you comprehend what the terrible calamity is?</v>\n",
      "  <v>The day on which men shall be as scattered moths,</v>\n",
      "  <v>And the mountains shall be as loosened wool.</v>\n",
      "  <v>Then as for him whose measure of good deeds is heavy,</v>\n",
      "  <v>He shall live a pleasant life.</v>\n",
      "  <v>And as for him whose measure of good deeds is light,</v>\n",
      "  <v>His abode shall be the abyss.</v>\n",
      "  <v>And what will make you know what it is?</v>\n",
      "  <v>A burning fire.</v>\n",
      "  <external silly=\"yes\">*** This text is not part of Quran! ***</external>\n",
      "</sura>\n",
      "\n"
     ]
    }
   ],
   "source": [
    "sura_xml = etree.tostring(sura101, pretty_print=True)\n",
    "print(sura_xml.decode('utf-8'))"
   ]
  }
 ],
 "metadata": {
  "celltoolbar": "Slideshow",
  "kernelspec": {
   "display_name": "Python 3",
   "language": "python",
   "name": "python3"
  },
  "language_info": {
   "codemirror_mode": {
    "name": "ipython",
    "version": 3
   },
   "file_extension": ".py",
   "mimetype": "text/x-python",
   "name": "python",
   "nbconvert_exporter": "python",
   "pygments_lexer": "ipython3",
   "version": "3.8.2"
  }
 },
 "nbformat": 4,
 "nbformat_minor": 4
}
