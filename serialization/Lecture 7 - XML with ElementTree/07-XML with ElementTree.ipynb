{
 "cells": [
  {
   "cell_type": "markdown",
   "metadata": {
    "slideshow": {
     "slide_type": "slide"
    }
   },
   "source": [
    "# ElementTree for XML"
   ]
  },
  {
   "cell_type": "markdown",
   "metadata": {
    "slideshow": {
     "slide_type": "fragment"
    }
   },
   "source": [
    "XML is somewhat special as a serialization format.  In particular, XML is not really one format so much as it is a meta-format with many dialects.  Syntactically, XML is a relatively simple format that defines elements with angle bracketed tags (less-than and greater-than signs), allows attributes within tags, and has a few other syntactic forms for special entities and directives.  As a rough approximation, XML is a generalization of HTML; or more accurately, HTML is a dialect of XML (to be pedantic, however, recent versions of HTML are not precisely XML dialects in some technical details)."
   ]
  },
  {
   "cell_type": "markdown",
   "metadata": {
    "slideshow": {
     "slide_type": "subslide"
    }
   },
   "source": [
    "An XML *dialect* is usually defined by a *schema* that specifies exactly which tags and attributes are permitted, and the manners in which they may nest inside one another.  Hundreds of such dialects are widely used; for example all modern word processors and publication systems use an XML dialect to define their documents (with a compression layer wrapped around the underlying XML).  Other non-document formats use XML as well, however."
   ]
  },
  {
   "cell_type": "markdown",
   "metadata": {
    "slideshow": {
     "slide_type": "fragment"
    }
   },
   "source": [
    "In contrast to a format like JSON which allow you to serialize pretty much arbitrary Python objects (with caveats discussed in other lessons), or CSV which allows you to serialize any data that is roughly tabular, when you work with XML you start with a specific dialect, and read, modify, and write data with that dialect in mind."
   ]
  },
  {
   "cell_type": "markdown",
   "metadata": {
    "slideshow": {
     "slide_type": "slide"
    }
   },
   "source": [
    "# XML Schemata\n",
    "\n",
    "There are several different languages in which the rules for a particular XML dialect may be defined.  All of them are outside the scope of this lesson, but the most commonly used one is the Document Type Definition (DTD).  Alternatives are XML Schema and RELAX NG.  For the next several lessons, we use an XML markup of an English translation of the Quran that was prepared by J. Bosak.  A number of religious texts are in the common archive that is contained in the repository for this course (following the license for distribution as a whole)."
   ]
  },
  {
   "cell_type": "markdown",
   "metadata": {
    "slideshow": {
     "slide_type": "fragment"
    }
   },
   "source": [
    "Looking at one DTD will give a sense of how they are defined, but this lesson will not describe precisely all the rules available.  In concept, a DTD is similar to a formal grammar, and somewhat similar to a regular expression or glob pattern.  XML Schema and RELAX NG are formally equivalent, but use different syntax."
   ]
  },
  {
   "cell_type": "markdown",
   "metadata": {
    "slideshow": {
     "slide_type": "subslide"
    }
   },
   "source": [
    "J. Bosak created a relatively simple DTD that defines elements sufficient to encode the several religious texts.  I have simplified that DTD further to include only those elements required by the Quran translation specifically.  Looking at the simplified DTD will provide some idea of the kinds of elements that can be defined."
   ]
  },
  {
   "cell_type": "markdown",
   "metadata": {
    "slideshow": {
     "slide_type": "fragment"
    }
   },
   "source": [
    "```dtd\n",
    "<!-- DTD for testaments    J. Bosak -->\n",
    "<!-- Early versions 1992-1998 -->\n",
    "<!-- Major revision Copyright (c) Jon Bosak September 1998 -->\n",
    "<!-- Subset by David Mertz 2020 -->\n",
    "<!ENTITY % plaintext \"#PCDATA|i\">\n",
    "<!ELEMENT tstmt     (coverpg?,titlepg?,preface?,suracoll+)>\n",
    "<!ELEMENT coverpg   ((title|title2)+, (subtitle|p)*)>\n",
    "<!ELEMENT titlepg   ((title|title2)+, (subtitle|p)*)>\n",
    "```"
   ]
  },
  {
   "cell_type": "markdown",
   "metadata": {
    "slideshow": {
     "slide_type": "subslide"
    }
   },
   "source": [
    "```dtd\n",
    "<!ELEMENT title     (%plaintext;)*>\n",
    "<!ELEMENT title2    (%plaintext;)*>\n",
    "<!ELEMENT subtitle  (p)+>\n",
    "<!ELEMENT preface   (ptitle+, p+)>\n",
    "<!ELEMENT ptitle    (%plaintext;)*>\n",
    "<!ELEMENT suracoll  (sura+)>\n",
    "<!ELEMENT sura      (bktlong, bktshort, epigraph?, v+)>\n",
    "```"
   ]
  },
  {
   "cell_type": "markdown",
   "metadata": {
    "slideshow": {
     "slide_type": "fragment"
    }
   },
   "source": [
    "```dtd\n",
    "<!ELEMENT bktlong   (%plaintext;)*>\n",
    "<!ELEMENT bktshort  (%plaintext;)*>\n",
    "<!ELEMENT epigraph  (%plaintext;)*>\n",
    "<!ELEMENT p         (%plaintext;)*>\n",
    "<!ELEMENT v         (%plaintext;)*>\n",
    "<!ELEMENT i         (%plaintext;)*>\n",
    "```"
   ]
  },
  {
   "cell_type": "markdown",
   "metadata": {
    "slideshow": {
     "slide_type": "subslide"
    }
   },
   "source": [
    "The first few lines of the document we will work with follow this schema and look like the below."
   ]
  },
  {
   "cell_type": "markdown",
   "metadata": {
    "slideshow": {
     "slide_type": "fragment"
    }
   },
   "source": [
    "```xml\n",
    "<?xml version=\"1.0\"?>\n",
    "<!DOCTYPE tstmt SYSTEM \"../common/tstmt.dtd\">\n",
    "<tstmt  attr1=\"Test1\" attr2=\"Test2\">\n",
    "<coverpg>\n",
    "<title>The Quran</title>\n",
    "<title2>One of a group of four religious works marked up for\n",
    "electronic publication from publicly available sources</title2>\n",
    "```"
   ]
  },
  {
   "cell_type": "markdown",
   "metadata": {
    "slideshow": {
     "slide_type": "subslide"
    }
   },
   "source": [
    "```xml\n",
    "<subtitle>\n",
    "<p>SGML version by Jon Bosak, 1992-1994</p>\n",
    "<p>XML version by Jon Bosak, 1996-1998</p>\n",
    "<p>The XML markup and added material in this version are\n",
    "Copyright &#169; 1998 Jon Bosak</p>\n",
    "</subtitle>\n",
    "```"
   ]
  },
  {
   "cell_type": "markdown",
   "metadata": {
    "slideshow": {
     "slide_type": "fragment"
    }
   },
   "source": [
    "```xml\n",
    "<subtitle>\n",
    "<p>The set of which this work is a part may freely be distributed on\n",
    "condition that it not be modified or altered in any way.  The\n",
    "individual works making up the set &#8212; <i>The Old Testament, The\n",
    "New Testament, The Quran,</i> and <i>The Book of Mormon</i> &#8212;\n",
    "cannot be distributed separately without violating the terms under\n",
    "which the set is made available.</p>\n",
    "</subtitle>\n",
    "```"
   ]
  },
  {
   "cell_type": "markdown",
   "metadata": {
    "slideshow": {
     "slide_type": "slide"
    }
   },
   "source": [
    "# Reading the XML Document\n",
    "\n",
    "An ElementTree object is a specialized data structure that mimics the hierarchical features of XML.  Reading it is straightforward, and a variety of atributes and methods are attached to the overall tree and to its various branches and leaves. In the original document only subelements are used, but no attributes; I added attributes for demonstration."
   ]
  },
  {
   "cell_type": "code",
   "execution_count": 1,
   "metadata": {
    "slideshow": {
     "slide_type": "fragment"
    }
   },
   "outputs": [
    {
     "data": {
      "text/plain": [
       "('tstmt', {'attr1': 'Test1', 'attr2': 'Test2'})"
      ]
     },
     "execution_count": 1,
     "metadata": {},
     "output_type": "execute_result"
    }
   ],
   "source": [
    "from pprint import pprint\n",
    "import xml.etree.ElementTree as ET\n",
    "\n",
    "tree = ET.parse('data/quran.xml')\n",
    "root = tree.getroot()\n",
    "root.tag, root.attrib"
   ]
  },
  {
   "cell_type": "markdown",
   "metadata": {
    "slideshow": {
     "slide_type": "subslide"
    }
   },
   "source": [
    "The methods `.find()` and `.findall()` are available on each subelement to locate nested subelements (children) of a given element."
   ]
  },
  {
   "cell_type": "code",
   "execution_count": 2,
   "metadata": {
    "slideshow": {
     "slide_type": "fragment"
    }
   },
   "outputs": [
    {
     "name": "stdout",
     "output_type": "stream",
     "text": [
      "Number of suras: 114\n",
      "Structure of sura 101:\n",
      "['bktlong', 'bktshort', 'epigraph', 'v', 'v', 'v', 'v', 'v', 'v', 'v', 'v', 'v', 'v', 'v']\n"
     ]
    }
   ],
   "source": [
    "suras = tree.find('suracoll').findall('sura')\n",
    "\n",
    "print(\"Number of suras:\", len(suras))\n",
    "print(\"Structure of sura 101:\")\n",
    "print([elem.tag for elem in suras[100]])"
   ]
  },
  {
   "cell_type": "markdown",
   "metadata": {
    "slideshow": {
     "slide_type": "fragment"
    }
   },
   "source": [
    "To find children that may be more deeply nested, the `.iter()` method is often appropriate.  For example, we can find the 114 nested suras."
   ]
  },
  {
   "cell_type": "code",
   "execution_count": 3,
   "metadata": {
    "slideshow": {
     "slide_type": "fragment"
    }
   },
   "outputs": [
    {
     "data": {
      "text/plain": [
       "114"
      ]
     },
     "execution_count": 3,
     "metadata": {},
     "output_type": "execute_result"
    }
   ],
   "source": [
    "suras = list(tree.iter('sura'))\n",
    "sura101 = suras[100] # zero-based Python\n",
    "len([sura for sura in suras])"
   ]
  },
  {
   "cell_type": "markdown",
   "metadata": {
    "slideshow": {
     "slide_type": "subslide"
    }
   },
   "source": [
    "We might wish to view the text within child elements, for example."
   ]
  },
  {
   "cell_type": "code",
   "execution_count": 4,
   "metadata": {
    "slideshow": {
     "slide_type": "fragment"
    }
   },
   "outputs": [
    {
     "name": "stdout",
     "output_type": "stream",
     "text": [
      "The terrible calamity!\n",
      "What is the terrible calamity!\n",
      "And what will make you comprehend what the terrible calamity is?\n",
      "The day on which men shall be as scattered moths,\n",
      "And the mountains shall be as loosened wool.\n",
      "Then as for him whose measure of good deeds is heavy,\n",
      "He shall live a pleasant life.\n",
      "And as for him whose measure of good deeds is light,\n",
      "His abode shall be the abyss.\n",
      "And what will make you know what it is?\n",
      "A burning fire.\n"
     ]
    }
   ],
   "source": [
    "for verse in sura101.findall('v'):\n",
    "    print(verse.text)"
   ]
  },
  {
   "cell_type": "markdown",
   "metadata": {
    "slideshow": {
     "slide_type": "subslide"
    }
   },
   "source": [
    "## Modifying an Element\n",
    "\n",
    "Using methods of elements, we may modify either attributes or children. In this example, we are not following the schema, but instead inventing a new element not defined in the DTD. After we have added an element and some content and attributes to that element, we might serialize the modified element as XML.  For illustration, a comment is also added."
   ]
  },
  {
   "cell_type": "code",
   "execution_count": 5,
   "metadata": {
    "slideshow": {
     "slide_type": "fragment"
    }
   },
   "outputs": [],
   "source": [
    "sura101.append(ET.Comment(\"Demonstrate a comment\"))\n",
    "child = ET.SubElement(sura101, 'external')\n",
    "child.text = \"\\n*** This text is not part of Quran! ***\\n\"\n",
    "child.set('silly', 'yes')\n",
    "child.set('discard', \"True\")"
   ]
  },
  {
   "cell_type": "code",
   "execution_count": 6,
   "metadata": {
    "slideshow": {
     "slide_type": "subslide"
    }
   },
   "outputs": [
    {
     "name": "stdout",
     "output_type": "stream",
     "text": [
      "<sura>\n",
      "<bktlong>101. The Terrible Calamity</bktlong>\n",
      "<bktshort>101. The Terrible Calamity</bktshort>\n",
      "<epigraph>In the Name of Allah, the Beneficent, the Merciful.\n",
      "</epigraph>\n",
      "<v>The terrible calamity!</v>\n",
      "<v>What is the terrible calamity!</v>\n",
      "<v>And what will make you comprehend what the terrible calamity is?</v>\n",
      "<v>The day on which men shall be as scattered moths,</v>\n",
      "<v>And the mountains shall be as loosened wool.</v>\n",
      "<v>Then as for him whose measure of good deeds is heavy,</v>\n",
      "<v>He shall live a pleasant life.</v>\n",
      "<v>And as for him whose measure of good deeds is light,</v>\n",
      "<v>His abode shall be the abyss.</v>\n",
      "<v>And what will make you know what it is?</v>\n",
      "<v>A burning fire.</v>\n",
      "<!--Demonstrate a comment--><external silly=\"yes\" discard=\"True\">\n",
      "*** This text is not part of Quran! ***\n",
      "</external></sura>\n"
     ]
    }
   ],
   "source": [
    "ET.dump(sura101)"
   ]
  },
  {
   "cell_type": "markdown",
   "metadata": {
    "slideshow": {
     "slide_type": "slide"
    }
   },
   "source": [
    "# What Is Missing?\n",
    "\n",
    "There are a number of XML features this lesson simply has not considered.  If we look at validation, entity resolution, namespaces, CDATA sections, character encoding and escaping, and some additional concepts you will need for robust XML processing.  For this lesson, and the next two, we just want you to be familiar with basic serialization and deserialization between Python and XML.  \n",
    "\n",
    "Understanding XML in full is its own longer course, and is not usually something you need to know for the basic handling, of the sort we show."
   ]
  }
 ],
 "metadata": {
  "celltoolbar": "Slideshow",
  "kernelspec": {
   "display_name": "Python 3",
   "language": "python",
   "name": "python3"
  },
  "language_info": {
   "codemirror_mode": {
    "name": "ipython",
    "version": 3
   },
   "file_extension": ".py",
   "mimetype": "text/x-python",
   "name": "python",
   "nbconvert_exporter": "python",
   "pygments_lexer": "ipython3",
   "version": "3.8.2"
  }
 },
 "nbformat": 4,
 "nbformat_minor": 4
}
