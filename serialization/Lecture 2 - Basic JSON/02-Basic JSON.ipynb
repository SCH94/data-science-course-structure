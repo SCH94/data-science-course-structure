{
 "cells": [
  {
   "cell_type": "markdown",
   "metadata": {
    "slideshow": {
     "slide_type": "slide"
    }
   },
   "source": [
    "# Reading and Writing JSON\n",
    "\n",
    "JavaScript Object Notation (JSON) is a widely used data exchange format.  As the name suggests, it is a format derived from JavaScript, but it is strictly language neutral. JSON is currently specified by Internet Engineering Task Force (IETF) RFC 8259.  \n",
    "\n",
    "JSON is supported by a great many programming languages, in their standard library, or as built-ins, or with widely available libraries for those languages.  Many JSON strings are also identical to valid Python expression for some data structure or scalar."
   ]
  },
  {
   "cell_type": "markdown",
   "metadata": {
    "slideshow": {
     "slide_type": "subslide"
    }
   },
   "source": [
    "Let us start out by loading a few Python standard library modules (and one external package) that this lesson will utilize."
   ]
  },
  {
   "cell_type": "code",
   "execution_count": 23,
   "metadata": {
    "slideshow": {
     "slide_type": "fragment"
    }
   },
   "outputs": [],
   "source": [
    "import json\n",
    "from pprint import pprint\n",
    "from textwrap import fill\n",
    "from dataclasses import dataclass, asdict\n",
    "from datetime import datetime\n",
    "from decimal import Decimal\n",
    "from fractions import Fraction\n",
    "from math import pi\n",
    "import jsonpickle"
   ]
  },
  {
   "cell_type": "markdown",
   "metadata": {
    "slideshow": {
     "slide_type": "slide"
    }
   },
   "source": [
    "## A String Representation\n",
    "\n",
    "Let us create a dictionary and use the `json` module to serialize it in a string form. The examples in this lesson will largely follow those used the the lesson on Python pickles."
   ]
  },
  {
   "cell_type": "code",
   "execution_count": 2,
   "metadata": {
    "slideshow": {
     "slide_type": "fragment"
    }
   },
   "outputs": [
    {
     "name": "stdout",
     "output_type": "stream",
     "text": [
      "{\"name\": \"David\", \"real_number\": 76.54, \"count\": 22,\n",
      "\"likes_python\": true, \"lifespan\": NaN, \"end_of_time\": Infinity,\n",
      "\"pets\": [\"Astrophe\", \"Kachina\", \"Jackson\", \"Rebel\"]}\n"
     ]
    }
   ],
   "source": [
    "# Being still alive, lifespan is unknown & marked with NaN\n",
    "my_data = dict(name=\"David\", real_number=76.54, count=22, likes_python=True, \n",
    "               lifespan=float('nan'), end_of_time=float('inf'),\n",
    "               pets=['Astrophe', 'Kachina', 'Jackson', 'Rebel'])\n",
    "\n",
    "jstr =json.dumps(my_data)\n",
    "print(fill(jstr, width=65))"
   ]
  },
  {
   "cell_type": "code",
   "execution_count": 3,
   "metadata": {
    "slideshow": {
     "slide_type": "fragment"
    }
   },
   "outputs": [
    {
     "name": "stdout",
     "output_type": "stream",
     "text": [
      "{'name': 'David', 'real_number': 76.54, 'count': 22,\n",
      "'likes_python': True, 'lifespan': nan, 'end_of_time': inf,\n",
      "'pets': ['Astrophe', 'Kachina', 'Jackson', 'Rebel']}\n"
     ]
    }
   ],
   "source": [
    "print(fill(str(my_data), width=65))"
   ]
  },
  {
   "cell_type": "markdown",
   "metadata": {
    "slideshow": {
     "slide_type": "subslide"
    }
   },
   "source": [
    "## Almost Just Python\n",
    "\n",
    "The JSON string representing the `my_data` dictionary is *almost* valid Python that we could copy-paste or `eval()`.  The main differences are the spelling different of `true` versus `True`, of `false` versus `False`, and of `null` versus `None`."
   ]
  },
  {
   "cell_type": "markdown",
   "metadata": {
    "slideshow": {
     "slide_type": "fragment"
    }
   },
   "source": [
    "Another subtle issue occurred in the example, however.  The name `nan` is neither a Python keyword or built-in name *nor* is it strictly part of the JSON spec.  This special class of floating-point values (Not-a-Number) is very useful for certain numeric purposes, so many JSON libraries add it as an informal extension.  "
   ]
  },
  {
   "cell_type": "markdown",
   "metadata": {
    "slideshow": {
     "slide_type": "subslide"
    }
   },
   "source": [
    "The JSON version is spelled `NaN`.  In Python, we could import the name `nan` from the `math` or `numpy` modules, or we can build it using the `float()` constructor.  The constants `+Infinity` and `-Infinity` which are part of the IEEE-754 floating point standard, likewise are often useful, but are not part of JSON narrowly."
   ]
  },
  {
   "cell_type": "code",
   "execution_count": 4,
   "metadata": {
    "slideshow": {
     "slide_type": "fragment"
    }
   },
   "outputs": [
    {
     "name": "stdout",
     "output_type": "stream",
     "text": [
      "Out of range float values are not JSON compliant\n"
     ]
    }
   ],
   "source": [
    "try:\n",
    "    json.dumps(my_data, allow_nan=False)\n",
    "except Exception as err:\n",
    "    print(err)"
   ]
  },
  {
   "cell_type": "markdown",
   "metadata": {
    "slideshow": {
     "slide_type": "subslide"
    }
   },
   "source": [
    "## Same Values, Different Object\n",
    "\n",
    "Serialization and deserialization will create an *equivalent* object, but not an identical object.  It should not be confused with a shared memory or concurrency mechanism (but serialization is a building block for *some* concurrency models)."
   ]
  },
  {
   "cell_type": "code",
   "execution_count": 5,
   "metadata": {
    "slideshow": {
     "slide_type": "fragment"
    }
   },
   "outputs": [],
   "source": [
    "# Avoid the NaN issue\n",
    "my_data = dict(name=\"David\", likes_python=True, count=None,\n",
    "               pets=['Astrophe', 'Kachina', 'Jackson', 'Rebel'])\n",
    "\n",
    "jstr =json.dumps(my_data)\n",
    "new_data = json.loads(jstr)"
   ]
  },
  {
   "cell_type": "code",
   "execution_count": 6,
   "metadata": {
    "slideshow": {
     "slide_type": "fragment"
    }
   },
   "outputs": [
    {
     "name": "stdout",
     "output_type": "stream",
     "text": [
      "Equality: True\n",
      "Identity: False\n"
     ]
    }
   ],
   "source": [
    "print(\"Equality:\", new_data == my_data)\n",
    "print(\"Identity:\", new_data is my_data)"
   ]
  },
  {
   "cell_type": "markdown",
   "metadata": {
    "slideshow": {
     "slide_type": "subslide"
    }
   },
   "source": [
    "## Serializing JSON to Files\n",
    "\n",
    "The API of the `json` module generally matches that of `pickle`.  Along with the `dumps()` and `loads()`, the `json` module also has `dump()` and `load()`.  In all of these, the final 's' is a very compact way of expressing the idea that the function consumes or produces *strings* rather than files.  That naming convention has an old history; most likely newer methods that did not require backward compatibility would use more obvious names."
   ]
  },
  {
   "cell_type": "markdown",
   "metadata": {
    "slideshow": {
     "slide_type": "fragment"
    }
   },
   "source": [
    "In contrast to pickle format, which is *usually* used to save files with serialized objects, JSON is *usually* used to create an in-memory string to send over various wire protocols. "
   ]
  },
  {
   "cell_type": "code",
   "execution_count": 7,
   "metadata": {
    "slideshow": {
     "slide_type": "fragment"
    }
   },
   "outputs": [
    {
     "name": "stdout",
     "output_type": "stream",
     "text": [
      "{\"name\": \"David\", \"likes_python\": true, \"count\": null, \"pets\": [\"Astrophe\", \"Kachina\", \"Jackson\", \"Rebel\"]}"
     ]
    }
   ],
   "source": [
    "with open('tmp/data.json', 'w') as fh:\n",
    "    json.dump(my_data, fh)\n",
    "\n",
    "!cat tmp/data.json"
   ]
  },
  {
   "cell_type": "markdown",
   "metadata": {
    "slideshow": {
     "slide_type": "subslide"
    }
   },
   "source": [
    "## Reading Objects from Files\n",
    "\n",
    "Reading JSON from a file—or from another file-like object—is exactly symmetrical with writing it.  With Python's so-called duck-typing, anything with a `.read()` method producing bytes allows unpickling.  Symmetrically, any object with a `.write()` method accepting bytes is suitable for pickling.  See examples in the previous lesson for use of several file-like objects. In this respect, `pickle` and `json` functions are the same."
   ]
  },
  {
   "cell_type": "code",
   "execution_count": 8,
   "metadata": {
    "slideshow": {
     "slide_type": "fragment"
    }
   },
   "outputs": [
    {
     "data": {
      "text/plain": [
       "{'name': 'David',\n",
       " 'likes_python': True,\n",
       " 'count': None,\n",
       " 'pets': ['Astrophe', 'Kachina', 'Jackson', 'Rebel']}"
      ]
     },
     "execution_count": 8,
     "metadata": {},
     "output_type": "execute_result"
    }
   ],
   "source": [
    "json.load(open('tmp/data.json'))"
   ]
  },
  {
   "cell_type": "markdown",
   "metadata": {
    "slideshow": {
     "slide_type": "slide"
    }
   },
   "source": [
    "# JSON Limitations\n",
    "\n",
    "Only basic Python collections and scalars can be directly represented in JSON; however, these collections *can* be nested indefinitely.  Specifically, JSON allows for dictionaries (called \"objects\" in the spec) and lists (called \"arrays\" in the spec); JSON does not have a way of representing tuples, sets, `collections.deque`, `collections.Counter`, NumPy arrays, or other collections you might use in Python.  The keys for JSON objects may only be strings, unlike Python dictionaries that can use any hashable object. For many purposes, casting another collection to a list suffices to transmit the data."
   ]
  },
  {
   "cell_type": "markdown",
   "metadata": {
    "slideshow": {
     "slide_type": "subslide"
    }
   },
   "source": [
    "The scalars supported by JSON are exclusively: the three literal names `true`, `false`, and `null`, strings, and numbers.  Strings are surrounded by double quotes, and may contain escaped Unicode code points.  JSON itself only contains a generic \"number\" datatype.  By default, numbers without decimal points will be interpreted as Python ints.  Numbers with decimals will be interpreted as Python floats.  Python allows other number types, such as `decimal.Decimal`, `fraction.Fraction`, or NumPy values of specific bit lengths."
   ]
  },
  {
   "cell_type": "markdown",
   "metadata": {
    "slideshow": {
     "slide_type": "subslide"
    }
   },
   "source": [
    "## Serialization Failures\n",
    "\n",
    "Any custom classes, including ones that represent special scalars, will fail by default in JSON serialization."
   ]
  },
  {
   "cell_type": "code",
   "execution_count": 9,
   "metadata": {
    "slideshow": {
     "slide_type": "fragment"
    }
   },
   "outputs": [
    {
     "name": "stdout",
     "output_type": "stream",
     "text": [
      "Object of type datetime is not JSON serializable\n"
     ]
    }
   ],
   "source": [
    "timestamp = datetime.fromisoformat('2020-05-24T00:55:10')\n",
    "try:\n",
    "    json.dumps(timestamp)\n",
    "except Exception as err:\n",
    "    print(err)"
   ]
  },
  {
   "cell_type": "code",
   "execution_count": 10,
   "metadata": {
    "slideshow": {
     "slide_type": "fragment"
    }
   },
   "outputs": [
    {
     "name": "stdout",
     "output_type": "stream",
     "text": [
      "Object of type Decimal is not JSON serializable\n"
     ]
    }
   ],
   "source": [
    "decnum = Decimal('3.1415')\n",
    "try:\n",
    "    json.dumps(decnum)\n",
    "except Exception as err:\n",
    "    print(err)"
   ]
  },
  {
   "cell_type": "markdown",
   "metadata": {
    "slideshow": {
     "slide_type": "subslide"
    }
   },
   "source": [
    "## Forcing Serialization\n",
    "\n",
    "We can customize how special Python datatypes are serialized and deserialized.  This should be done with a caution, however, because it also can impact interoperability with other systems.  This might mean system in other programming languages, or it might simply be other Python machines without the same customizations.  First let us handle extra serialization."
   ]
  },
  {
   "cell_type": "code",
   "execution_count": 24,
   "metadata": {
    "slideshow": {
     "slide_type": "fragment"
    }
   },
   "outputs": [],
   "source": [
    "class ScalarEncoder(json.JSONEncoder):\n",
    "    def default(self, o):\n",
    "        if isinstance(o, (Decimal, Fraction)):\n",
    "            return float(o)\n",
    "        elif isinstance(o, datetime):\n",
    "            return datetime.isoformat(o)\n",
    "        else:\n",
    "            return super().default(o)"
   ]
  },
  {
   "cell_type": "markdown",
   "metadata": {
    "slideshow": {
     "slide_type": "subslide"
    }
   },
   "source": [
    "### Semi-Generic Types\n",
    "\n",
    "Let us encode some data using the custom encoder we developed."
   ]
  },
  {
   "cell_type": "code",
   "execution_count": 12,
   "metadata": {
    "slideshow": {
     "slide_type": "fragment"
    }
   },
   "outputs": [
    {
     "name": "stdout",
     "output_type": "stream",
     "text": [
      "('[\"2020-05-24T00:55:10\", 42, 3.1415, '\n",
      " '3.141592653589793, 3.142857142857143]')\n"
     ]
    }
   ],
   "source": [
    "nums = [timestamp, 42, decnum, pi, Fraction(22, 7)] \n",
    "jnums = json.dumps(nums, cls=ScalarEncoder)\n",
    "pprint(jnums, width=55)"
   ]
  },
  {
   "cell_type": "markdown",
   "metadata": {
    "slideshow": {
     "slide_type": "fragment"
    }
   },
   "source": [
    "This customization will not introduce much compatibility concern.  The same \"number\" can be represented in different systems.  However, notice that in the JSON representation absolutely nothing distinguishes the float, Decimal, and Fraction we started with as several approximations of the transcendental number pi.  The timestamp has simply become a string, but one that contains all the underlying information."
   ]
  },
  {
   "cell_type": "markdown",
   "metadata": {
    "slideshow": {
     "slide_type": "subslide"
    }
   },
   "source": [
    "Reading back in this JSON serialization will work fine, but with all non-integral numbers as platform-native floats.  We can change the default deserialization type for floats and ints if we would like to. We impose just one type for each of float and int."
   ]
  },
  {
   "cell_type": "code",
   "execution_count": 13,
   "metadata": {
    "slideshow": {
     "slide_type": "fragment"
    }
   },
   "outputs": [
    {
     "data": {
      "text/plain": [
       "['2020-05-24T00:55:10', 42, 3.1415, 3.141592653589793, 3.142857142857143]"
      ]
     },
     "execution_count": 13,
     "metadata": {},
     "output_type": "execute_result"
    }
   ],
   "source": [
    "json.loads(jnums)"
   ]
  },
  {
   "cell_type": "code",
   "execution_count": 14,
   "metadata": {
    "slideshow": {
     "slide_type": "fragment"
    }
   },
   "outputs": [
    {
     "data": {
      "text/plain": [
       "['2020-05-24T00:55:10',\n",
       " Fraction(42, 1),\n",
       " Decimal('3.1415'),\n",
       " Decimal('3.141592653589793'),\n",
       " Decimal('3.142857142857143')]"
      ]
     },
     "execution_count": 14,
     "metadata": {},
     "output_type": "execute_result"
    }
   ],
   "source": [
    "json.loads(jnums, parse_float=Decimal, parse_int=Fraction)"
   ]
  },
  {
   "cell_type": "markdown",
   "metadata": {
    "slideshow": {
     "slide_type": "subslide"
    }
   },
   "source": [
    "## Customizing Serialization\n",
    "\n",
    "For complex objects, the `.__dict__` of the object often serves as a reasonable proxy for \"the interesting data\" inside the object. We saw a definition of a custom encoder and could enhance it to deal with additional types that way. However, this is about the point where you want to worry more about the actual utility of your serialization, especially if you will transmit it to other systems (i.e. running different programming languages).  "
   ]
  },
  {
   "cell_type": "code",
   "execution_count": 15,
   "metadata": {
    "slideshow": {
     "slide_type": "fragment"
    }
   },
   "outputs": [],
   "source": [
    "class RobustEncoder(ScalarEncoder):\n",
    "    def default(self, o):\n",
    "        try:\n",
    "            return super().default(o)\n",
    "        except:\n",
    "            return o.__dict__"
   ]
  },
  {
   "cell_type": "markdown",
   "metadata": {
    "slideshow": {
     "slide_type": "subslide"
    }
   },
   "source": [
    "Let us create a custom instance that has some \"problem\" nested data, and serialize it using this new encoder."
   ]
  },
  {
   "cell_type": "code",
   "execution_count": 16,
   "metadata": {
    "slideshow": {
     "slide_type": "fragment"
    }
   },
   "outputs": [],
   "source": [
    "@dataclass\n",
    "class TestData:\n",
    "    description: str\n",
    "    timestamp: datetime\n",
    "    numbers: list"
   ]
  },
  {
   "cell_type": "code",
   "execution_count": 17,
   "metadata": {
    "slideshow": {
     "slide_type": "fragment"
    }
   },
   "outputs": [
    {
     "name": "stdout",
     "output_type": "stream",
     "text": [
      "(\"TestData(description='Pi approximations', \"\n",
      " 'timestamp=datetime.datetime(2020, 5, 24, 0, 55, 10), '\n",
      " \"numbers=[Decimal('3.1415'), 3.141592653589793, \"\n",
      " 'Fraction(22, 7)])')\n"
     ]
    }
   ],
   "source": [
    "test_data = TestData(description=\"Pi approximations\",\n",
    "                     timestamp=timestamp,\n",
    "                     numbers=[decnum, pi, Fraction(22, 7)])\n",
    "pprint(str(test_data), width=56)"
   ]
  },
  {
   "cell_type": "markdown",
   "metadata": {
    "slideshow": {
     "slide_type": "subslide"
    }
   },
   "source": [
    "At this point we are able to serialize to JSON a custom class, albeit without specifically maintaining any information about the class it belongs to, only the underlying data."
   ]
  },
  {
   "cell_type": "code",
   "execution_count": 18,
   "metadata": {
    "slideshow": {
     "slide_type": "fragment"
    }
   },
   "outputs": [
    {
     "name": "stdout",
     "output_type": "stream",
     "text": [
      "('{\"description\": \"Pi approximations\", \"timestamp\": \"2020-05-24T00:55:10\", '\n",
      " '\"numbers\": [3.1415, 3.141592653589793, 3.142857142857143]}')\n"
     ]
    }
   ],
   "source": [
    "pprint(json.dumps(test_data, cls=RobustEncoder))"
   ]
  },
  {
   "cell_type": "markdown",
   "metadata": {
    "slideshow": {
     "slide_type": "fragment"
    }
   },
   "source": [
    "The example used a Data Class, but that was only because of the compact form of its definition.  The same example would work for any custom class."
   ]
  },
  {
   "cell_type": "markdown",
   "metadata": {
    "slideshow": {
     "slide_type": "slide"
    }
   },
   "source": [
    "# JSON Pickles\n",
    "\n",
    "If your concern for interoperability is low, and you only wish to exchange data between reasonably similarly configured Python systems (or only persist objects on the same system), the third-party module `jsonpickle` does this abstraction for you.  This achieves round-tripping, which is often useful.  Its capabilities and limitations are essentially identical to `pickle` itself.  However, the binary pickle format is considerably more compact than the JSON string format."
   ]
  },
  {
   "cell_type": "code",
   "execution_count": 25,
   "metadata": {
    "slideshow": {
     "slide_type": "fragment"
    }
   },
   "outputs": [
    {
     "name": "stdout",
     "output_type": "stream",
     "text": [
      "(\"TestData(description='Pi approximations', \"\n",
      " 'timestamp=datetime.datetime(2020, 5, 24, 0, 55, 10), '\n",
      " \"numbers=[Decimal('3.1415'), 3.141592653589793, \"\n",
      " 'Fraction(22, 7)])')\n"
     ]
    }
   ],
   "source": [
    "jpkl = jsonpickle.encode(test_data, indent=True)\n",
    "new_data = jsonpickle.decode(jpkl)\n",
    "pprint(str(new_data), width=56)"
   ]
  },
  {
   "cell_type": "markdown",
   "metadata": {
    "slideshow": {
     "slide_type": "fragment"
    }
   },
   "source": [
    "The various nested datatypes are fully preserved, as well as the class they belong to."
   ]
  },
  {
   "cell_type": "markdown",
   "metadata": {
    "slideshow": {
     "slide_type": "subslide"
    }
   },
   "source": [
    "## The Verbose Format\n",
    "\n",
    "Above, I used the `indent=True` option to produce more human readable (but somewhat larger) JSON output.  It only modifies semantically meaningless whitespace.  The same switch exits on the `pickle` module itself.  Let us look at what is contained in this specialized JSON format. We will use several slides to see the parts."
   ]
  },
  {
   "cell_type": "code",
   "execution_count": 20,
   "metadata": {
    "slideshow": {
     "slide_type": "fragment"
    }
   },
   "outputs": [
    {
     "name": "stdout",
     "output_type": "stream",
     "text": [
      "{\n",
      " \"py/object\": \"__main__.TestData\",\n",
      " \"description\": \"Pi approximations\",\n",
      " \"timestamp\": {\n",
      "  \"py/object\": \"datetime.datetime\",\n",
      "  \"__reduce__\": [\n",
      "   {\n",
      "    \"py/type\": \"datetime.datetime\"\n",
      "   },\n",
      "   [\n",
      "    \"B+QFGAA3CgAAAA==\"\n",
      "   ]\n",
      "  ]\n",
      " },\n"
     ]
    }
   ],
   "source": [
    "lines = jpkl.splitlines()\n",
    "print('\\n'.join(lines[:14]))"
   ]
  },
  {
   "cell_type": "code",
   "execution_count": 21,
   "metadata": {
    "slideshow": {
     "slide_type": "subslide"
    }
   },
   "outputs": [
    {
     "name": "stdout",
     "output_type": "stream",
     "text": [
      " \"numbers\": [\n",
      "  {\n",
      "   \"py/reduce\": [\n",
      "    {\n",
      "     \"py/type\": \"decimal.Decimal\"\n",
      "    },\n",
      "    {\n",
      "     \"py/tuple\": [\n",
      "      \"3.1415\"\n",
      "     ]\n",
      "    }\n",
      "   ]\n",
      "  },\n",
      "  3.141592653589793,\n"
     ]
    }
   ],
   "source": [
    "print('\\n'.join(lines[14:28]))"
   ]
  },
  {
   "cell_type": "code",
   "execution_count": 22,
   "metadata": {
    "slideshow": {
     "slide_type": "subslide"
    }
   },
   "outputs": [
    {
     "name": "stdout",
     "output_type": "stream",
     "text": [
      "  {\n",
      "   \"py/reduce\": [\n",
      "    {\n",
      "     \"py/type\": \"fractions.Fraction\"\n",
      "    },\n",
      "    {\n",
      "     \"py/tuple\": [\n",
      "      \"22/7\"\n",
      "     ]\n",
      "    }\n",
      "   ]\n",
      "  }\n",
      " ]\n",
      "}\n"
     ]
    }
   ],
   "source": [
    "print('\\n'.join(lines[28:]))"
   ]
  }
 ],
 "metadata": {
  "celltoolbar": "Slideshow",
  "kernelspec": {
   "display_name": "Python 3",
   "language": "python",
   "name": "python3"
  },
  "language_info": {
   "codemirror_mode": {
    "name": "ipython",
    "version": 3
   },
   "file_extension": ".py",
   "mimetype": "text/x-python",
   "name": "python",
   "nbconvert_exporter": "python",
   "pygments_lexer": "ipython3",
   "version": "3.8.2"
  }
 },
 "nbformat": 4,
 "nbformat_minor": 4
}
