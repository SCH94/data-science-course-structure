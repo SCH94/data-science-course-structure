{
 "cells": [
  {
   "cell_type": "markdown",
   "metadata": {},
   "source": [
    "![ine-divider](https://user-images.githubusercontent.com/7065401/92672068-398e8080-f2ee-11ea-82d6-ad53f7feb5c0.png)\n",
    "<hr>\n",
    "\n",
    "### Course name\n",
    "\n",
    "# Lesson/Lecture name\n",
    "\n",
    "![orange-divider](https://user-images.githubusercontent.com/7065401/92672455-187a5f80-f2ef-11ea-890c-40be9474f7b7.png)"
   ]
  },
  {
   "cell_type": "markdown",
   "metadata": {},
   "source": [
    "Lorem ipsum dolor sit amet consectetur adipiscing elit ad sapien eget aliquet platea lacinia, dignissim porta nunc nam malesuada tortor **habitant vestibulum consequat libero duis**. Molestie ac leo nisi nullam cras ligula montes ante condimentum vitae, arcu facilisi vel tellus pulvinar ullamcorper sem eu venenatis quam, vivamus lacinia congue enim vestibulum dapibus magnis at mollis. Erat bibendum cubilia mattis eros ornare lacus eget vitae dui, scelerisque varius sed eu fermentum condimentum enim sem gravida, **turpis tortor nostra curae ultrices egestas tincidunt augue**.\n",
    "\n",
    "![MyImage](https://via.placeholder.com/600x350/aaa.png)\n",
    "\n",
    "> You can use blockquotes as shown here.\n",
    "\n",
    "And _italic_ text is also available!\n",
    "\n",
    "**LaTeX** is also available, this formula $f(x) = x^2$ is an example.\n",
    "\n",
    "$$g(x) = \\frac{1}{x}$$\n",
    "\n",
    "Hendrerit parturient aliquam mollis duis praesent phasellus sagittis congue tincidunt velit scelerisque in, dui habitant ultricies risus tellus est suscipit fermentum rhoncus porttitor neque lobortis, malesuada cursus proin quam penatibus orci massa purus etiam facilisi sapien."
   ]
  },
  {
   "cell_type": "code",
   "execution_count": 4,
   "metadata": {},
   "outputs": [
    {
     "data": {
      "text/html": [
       "<div>\n",
       "<style scoped>\n",
       "    .dataframe tbody tr th:only-of-type {\n",
       "        vertical-align: middle;\n",
       "    }\n",
       "\n",
       "    .dataframe tbody tr th {\n",
       "        vertical-align: top;\n",
       "    }\n",
       "\n",
       "    .dataframe thead th {\n",
       "        text-align: right;\n",
       "    }\n",
       "</style>\n",
       "<table border=\"1\" class=\"dataframe\">\n",
       "  <thead>\n",
       "    <tr style=\"text-align: right;\">\n",
       "      <th></th>\n",
       "      <th>0</th>\n",
       "      <th>1</th>\n",
       "      <th>2</th>\n",
       "    </tr>\n",
       "  </thead>\n",
       "  <tbody>\n",
       "    <tr>\n",
       "      <th>0</th>\n",
       "      <td>1</td>\n",
       "      <td>2</td>\n",
       "      <td>3</td>\n",
       "    </tr>\n",
       "    <tr>\n",
       "      <th>1</th>\n",
       "      <td>4</td>\n",
       "      <td>5</td>\n",
       "      <td>6</td>\n",
       "    </tr>\n",
       "    <tr>\n",
       "      <th>2</th>\n",
       "      <td>7</td>\n",
       "      <td>8</td>\n",
       "      <td>9</td>\n",
       "    </tr>\n",
       "  </tbody>\n",
       "</table>\n",
       "</div>"
      ],
      "text/plain": [
       "   0  1  2\n",
       "0  1  2  3\n",
       "1  4  5  6\n",
       "2  7  8  9"
      ]
     },
     "execution_count": 4,
     "metadata": {},
     "output_type": "execute_result"
    }
   ],
   "source": [
    "import pandas as pd\n",
    "\n",
    "pd.DataFrame([[1,2,3], [4,5,6], [7,8,9]])"
   ]
  },
  {
   "cell_type": "markdown",
   "metadata": {},
   "source": [
    "![orange-divider](https://user-images.githubusercontent.com/7065401/92672455-187a5f80-f2ef-11ea-890c-40be9474f7b7.png)\n",
    "\n",
    "## This is a new lesson/lecture section\n",
    "\n",
    "Use **bold fonts for emphasis to highlight important points**, but use them as little as possible. If everything is emphasized, then nothing stands out.\n",
    "\n",
    "- List things\n",
    "- Another thing\n",
    "\n",
    "Also you can use [inline-style link](https://www.google.com) to enrich your content.\n"
   ]
  },
  {
   "cell_type": "markdown",
   "metadata": {},
   "source": [
    "---\n",
    "### This is a sub-section\n",
    "\n",
    "Divide things inside your section using sub-sections.\n",
    "\n",
    "![MyImage](https://via.placeholder.com/400x300/aaa.png)\n"
   ]
  },
  {
   "cell_type": "markdown",
   "metadata": {},
   "source": [
    "---\n",
    "### Just another sub-section\n",
    "\n",
    "Dis vivamus egestas felis lacus facilisi praesent habitasse, est tincidunt semper ac ullamcorper nec congue magna, platea volutpat sem senectus lacinia justo. Fusce ligula sapien lobortis odio vel est ultrices sagittis nisi luctus, purus class nibh viverra volutpat ornare montes orci non tempor, auctor feugiat turpis elementum egestas magnis pulvinar integer mollis. Porta tincidunt ultrices nisi hendrerit neque nulla augue turpis, aenean felis malesuada a litora class quis vulputate, vel orci egestas ad justo suscipit consequat.\n"
   ]
  },
  {
   "cell_type": "markdown",
   "metadata": {},
   "source": [
    "![orange-divider](https://user-images.githubusercontent.com/7065401/92672455-187a5f80-f2ef-11ea-890c-40be9474f7b7.png)\n",
    "\n",
    "## Wrapping up\n",
    "\n",
    "Blocks of code are either fenced by lines with three back-ticks \\`\\`\\`, or are indented with four spaces.\n",
    " \n",
    "```python\n",
    "s = \"Python syntax highlighting\"\n",
    "print s\n",
    "```\n",
    " \n",
    "```\n",
    "No language indicated, so no syntax highlighting. \n",
    "But let's throw in a <b>tag</b>.\n",
    "```\n",
    "\n",
    "---\n",
    "### You can also use tables\n",
    "\n",
    "This is an example table:\n",
    "\n",
    "| Date    | Value |\n",
    "|---------|-------|\n",
    "| 2017-01 | 366   |\n",
    "| 2018-01 | 250   |\n",
    "| 2019-01 | 250   |\n",
    "\n",
    "\n",
    "> Finally, don't forget to keep that _separator_ at the end of your Notebook.\n"
   ]
  },
  {
   "cell_type": "markdown",
   "metadata": {},
   "source": [
    "![orange-divider](https://user-images.githubusercontent.com/7065401/92672455-187a5f80-f2ef-11ea-890c-40be9474f7b7.png)\n"
   ]
  }
 ],
 "metadata": {
  "kernelspec": {
   "display_name": "Python 3",
   "language": "python",
   "name": "python3"
  },
  "language_info": {
   "codemirror_mode": {
    "name": "ipython",
    "version": 3
   },
   "file_extension": ".py",
   "mimetype": "text/x-python",
   "name": "python",
   "nbconvert_exporter": "python",
   "pygments_lexer": "ipython3",
   "version": "3.8.4"
  }
 },
 "nbformat": 4,
 "nbformat_minor": 4
}
