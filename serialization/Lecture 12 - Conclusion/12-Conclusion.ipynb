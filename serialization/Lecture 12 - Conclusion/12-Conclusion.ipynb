{
 "cells": [
  {
   "cell_type": "markdown",
   "metadata": {
    "slideshow": {
     "slide_type": "slide"
    }
   },
   "source": [
    "# What You Know\n",
    "\n",
    "Some concepts we have addressed:<img src=\"img/david-headshot2.png\" align=\"right\" width=\"33%\"/>\n",
    "\n",
    "Serialization with `pickle` and custom serialization\n",
    "\n",
    "Objects that can and cannot be serialized to JSON, and how to coerce them\n",
    "\n",
    "Validation of JSON Schema"
   ]
  },
  {
   "cell_type": "markdown",
   "metadata": {
    "slideshow": {
     "slide_type": "slide"
    }
   },
   "source": [
    "# What You Know\n",
    "\n",
    "Some concepts we have addressed:<img src=\"img/david-headshot2.png\" align=\"right\" width=\"33%\"/>\n",
    "\n",
    "Several APIs for accessing data structures in XML\n",
    "\n",
    "Serializing numeric array data with NumPy\n",
    "\n",
    "The HDF5 file formt for working with large scientific datasets"
   ]
  },
  {
   "cell_type": "markdown",
   "metadata": {
    "slideshow": {
     "slide_type": "slide"
    }
   },
   "source": [
    "# What Next?\n",
    "\n",
    "Some ideas for going further.<img src=\"img/DQM-Maybe-Belarus-small.jpg\" align=\"right\" width=\"33%\"/>\n",
    "\n",
    "Benchmark different serialization techiques\n",
    "\n",
    "Make an inventory of the formats used by your colleagues or your organization\n",
    "\n",
    "Research additional formats we did not have a chance to address"
   ]
  }
 ],
 "metadata": {
  "celltoolbar": "Slideshow",
  "kernelspec": {
   "display_name": "Python 3",
   "language": "python",
   "name": "python3"
  },
  "language_info": {
   "codemirror_mode": {
    "name": "ipython",
    "version": 3
   },
   "file_extension": ".py",
   "mimetype": "text/x-python",
   "name": "python",
   "nbconvert_exporter": "python",
   "pygments_lexer": "ipython3",
   "version": "3.8.2"
  }
 },
 "nbformat": 4,
 "nbformat_minor": 4
}
