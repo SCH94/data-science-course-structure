{
 "cells": [
  {
   "cell_type": "markdown",
   "metadata": {
    "slideshow": {
     "slide_type": "slide"
    }
   },
   "source": [
    "# JSON Schema\n",
    "\n",
    "The prior lesson demonstrated communicating between a RESTful web server and a client.  Recall that we sent HTTP POST messages with a JSON body to a server and received JSON responses from GET queries.  One thing that was not done in the example was any validation of the format of these messages.  Or rather, there was one element of ad-hoc validation in that the server required the field \"name\" to be present in a user record."
   ]
  },
  {
   "cell_type": "markdown",
   "metadata": {
    "slideshow": {
     "slide_type": "fragment"
    }
   },
   "source": [
    "Using JSON Schema, we can more precisely specify all the elements that may be present in an acceptable JSON document, including which are requires versus option, and indicate datatypes and nesting of containers.  JSON Schema can contain varying levels of details.  We will look at some possible schemata to define a valid user with varying degrees of specificity."
   ]
  },
  {
   "cell_type": "markdown",
   "metadata": {
    "slideshow": {
     "slide_type": "subslide"
    }
   },
   "source": [
    "Let us start out by loading Python standard library modules and the third-party `jsonschema` module.  We also create JSON strings for several users to validate."
   ]
  },
  {
   "cell_type": "code",
   "execution_count": 1,
   "metadata": {
    "slideshow": {
     "slide_type": "fragment"
    }
   },
   "outputs": [],
   "source": [
    "import json\n",
    "from jsonschema import validate, ValidationError"
   ]
  },
  {
   "cell_type": "code",
   "execution_count": 20,
   "metadata": {
    "slideshow": {
     "slide_type": "fragment"
    }
   },
   "outputs": [],
   "source": [
    "guido = json.loads(\"\"\"{\n",
    "  \"name\": \"Guido van Rossum\",\n",
    "  \"password\": \"unladenswallow\",\n",
    "  \"details\": {\n",
    "    \"profession\": \"ex-BDFL\"\n",
    "  }\n",
    "}\"\"\")"
   ]
  },
  {
   "cell_type": "code",
   "execution_count": 3,
   "metadata": {
    "slideshow": {
     "slide_type": "subslide"
    }
   },
   "outputs": [],
   "source": [
    "david = json.loads(\"\"\"{\n",
    "  \"name\": \"David Mertz\",\n",
    "  \"password\": \"badpassword\",\n",
    "  \"details\": {\n",
    "    \"profession\": \"Data Scientist\",\n",
    "    \"publisher\": \"INE\"\n",
    "  },\n",
    "  \"lucky_numbers\": [12, 42, 55, 87]\n",
    "}\"\"\")"
   ]
  },
  {
   "cell_type": "code",
   "execution_count": 4,
   "metadata": {
    "slideshow": {
     "slide_type": "fragment"
    }
   },
   "outputs": [],
   "source": [
    "intruder = json.loads(\"\"\"{\n",
    "  \"password\": \"P4cC!^*8chWz8\", \n",
    "  \"profession\": \"Hacker\"\n",
    "}\"\"\")"
   ]
  },
  {
   "cell_type": "markdown",
   "metadata": {
    "slideshow": {
     "slide_type": "slide"
    }
   },
   "source": [
    "# Validation\n",
    "\n",
    "A JSON Schema is itself a JSON document following certain specifications.  At the simplest, it needs to specify a type for the JSON being validated. The module `jsonschema` expects Python objects as both `instance` and `schema` arguments.  If you are beginning with JSON—which is, after all, the point of using it—you need to use the `json` module to convert both to Python objects first."
   ]
  },
  {
   "cell_type": "markdown",
   "metadata": {
    "slideshow": {
     "slide_type": "fragment"
    }
   },
   "source": [
    "The API the `jsonschema` module uses might be surprising.  It raises an exception on failure, but passes silently on success.  Let us look at a couple examples."
   ]
  },
  {
   "cell_type": "markdown",
   "metadata": {
    "slideshow": {
     "slide_type": "subslide"
    }
   },
   "source": [
    "## Checking Scalars"
   ]
  },
  {
   "cell_type": "code",
   "execution_count": 5,
   "metadata": {
    "slideshow": {
     "slide_type": "fragment"
    }
   },
   "outputs": [
    {
     "name": "stdout",
     "output_type": "stream",
     "text": [
      "99 is a number\n"
     ]
    }
   ],
   "source": [
    "try:\n",
    "    validate(instance=99, schema={\"type\": \"number\"})\n",
    "    print(\"99 is a number\")\n",
    "except ValidationError as err:\n",
    "    print(err)    "
   ]
  },
  {
   "cell_type": "code",
   "execution_count": 6,
   "metadata": {
    "slideshow": {
     "slide_type": "subslide"
    }
   },
   "outputs": [
    {
     "name": "stdout",
     "output_type": "stream",
     "text": [
      "99 is not of type 'string'\n",
      "\n",
      "Failed validating 'type' in schema:\n",
      "    {'type': 'string'}\n",
      "\n",
      "On instance:\n",
      "    99\n"
     ]
    }
   ],
   "source": [
    "try:\n",
    "    validate(99, {\"type\": \"string\"})\n",
    "    print(\"99 is a string\")\n",
    "except ValidationError as err:\n",
    "    print(err)"
   ]
  },
  {
   "cell_type": "code",
   "execution_count": 7,
   "metadata": {
    "slideshow": {
     "slide_type": "fragment"
    }
   },
   "outputs": [
    {
     "name": "stdout",
     "output_type": "stream",
     "text": [
      "'99' is not of type 'number'\n",
      "\n",
      "Failed validating 'type' in schema:\n",
      "    {'type': 'number'}\n",
      "\n",
      "On instance:\n",
      "    '99'\n"
     ]
    }
   ],
   "source": [
    "try:\n",
    "    validate(\"99\", {\"type\": \"number\"})\n",
    "    print(\"99 is a string\")\n",
    "except ValidationError as err:\n",
    "    print(err)"
   ]
  },
  {
   "cell_type": "markdown",
   "metadata": {
    "slideshow": {
     "slide_type": "subslide"
    }
   },
   "source": [
    "## A Test Function\n",
    "\n",
    "I find it easier to wrap the exception raising API with a function that will return either the error description as a string or None as a sentinel for \"no errors.\""
   ]
  },
  {
   "cell_type": "code",
   "execution_count": 8,
   "metadata": {
    "slideshow": {
     "slide_type": "fragment"
    }
   },
   "outputs": [],
   "source": [
    "def not_valid(instance, schema):\n",
    "    try:\n",
    "        validate(instance, schema)\n",
    "        return None\n",
    "    except ValidationError as err:\n",
    "        return str(err)"
   ]
  },
  {
   "cell_type": "markdown",
   "metadata": {
    "slideshow": {
     "slide_type": "subslide"
    }
   },
   "source": [
    "The following is the pattern we will use for the remaining examples."
   ]
  },
  {
   "cell_type": "code",
   "execution_count": 9,
   "metadata": {
    "slideshow": {
     "slide_type": "fragment"
    }
   },
   "outputs": [
    {
     "name": "stdout",
     "output_type": "stream",
     "text": [
      "'Ooops' is not of type 'array'\n",
      "\n",
      "Failed validating 'type' in schema:\n",
      "    {'type': 'array'}\n",
      "\n",
      "On instance:\n",
      "    'Ooops'\n"
     ]
    }
   ],
   "source": [
    "# The \"walrus operator\" requires Python 3.8+\n",
    "if msg := not_valid(\"Ooops\", {\"type\": \"array\"}):\n",
    "    print(msg)"
   ]
  },
  {
   "cell_type": "markdown",
   "metadata": {
    "slideshow": {
     "slide_type": "slide"
    }
   },
   "source": [
    "# Checking Users\n",
    "\n",
    "The simple examples above do not check structured collections. All user JSON records are what JavaScript calls \"objects\" but Python calls dicts.   For a JSON object, we need to define both the type and the properties we expect it to have.  We may specify keys as required, but validation will not prohibit inclusion of \"cargo\" in keys we have not specified.  Very often this is exactly desired behavior; JSON often carries extra information that might be used by other consumers, but a particular consumer only needs to assure the parts it cares about are present."
   ]
  },
  {
   "cell_type": "code",
   "execution_count": 10,
   "metadata": {
    "slideshow": {
     "slide_type": "fragment"
    }
   },
   "outputs": [],
   "source": [
    "schema = json.loads(\"\"\"{\n",
    "  \"type\" : \"object\",\n",
    "  \"required\": [\"name\"],\n",
    "  \"properties\" : {\n",
    "    \"name\" : {\"type\" : \"string\"}\n",
    "    }\n",
    "}\"\"\")"
   ]
  },
  {
   "cell_type": "markdown",
   "metadata": {
    "slideshow": {
     "slide_type": "subslide"
    }
   },
   "source": [
    "Validate standard users."
   ]
  },
  {
   "cell_type": "code",
   "execution_count": 11,
   "metadata": {
    "slideshow": {
     "slide_type": "fragment"
    }
   },
   "outputs": [
    {
     "name": "stdout",
     "output_type": "stream",
     "text": [
      "User Guido van Rossum validates correctly\n",
      "User David Mertz validates correctly\n"
     ]
    }
   ],
   "source": [
    "for user in [guido, david]:\n",
    "    if msg := not_valid(user, schema):\n",
    "        print(msg, \"\\n--------------------\")\n",
    "    else:\n",
    "        print(f\"User {user['name']} validates correctly\")"
   ]
  },
  {
   "cell_type": "markdown",
   "metadata": {
    "slideshow": {
     "slide_type": "fragment"
    }
   },
   "source": [
    "The schema in this first pass suffices to check the constraint the server in the prior lesson imposed.  In fact, it checks slightly more in guaranteeing that the field \"name\" is a string."
   ]
  },
  {
   "cell_type": "code",
   "execution_count": 12,
   "metadata": {
    "slideshow": {
     "slide_type": "fragment"
    }
   },
   "outputs": [],
   "source": [
    "barbara_feldon = json.loads(\"\"\"{\n",
    "  \"name\": 99, \n",
    "  \"details\": {\"profession\": \"CONTROL Agent\"}\n",
    "}\"\"\")"
   ]
  },
  {
   "cell_type": "markdown",
   "metadata": {
    "slideshow": {
     "slide_type": "subslide"
    }
   },
   "source": [
    "We have two not-quite-conformant user JSON documents to validate. Each fails in a different way."
   ]
  },
  {
   "cell_type": "code",
   "execution_count": 13,
   "metadata": {
    "slideshow": {
     "slide_type": "fragment"
    }
   },
   "outputs": [
    {
     "name": "stdout",
     "output_type": "stream",
     "text": [
      "99 is not of type 'string'\n",
      "\n",
      "Failed validating 'type' in schema['properties']['name']:\n",
      "    {'type': 'string'}\n",
      "\n",
      "On instance['name']:\n",
      "    99 \n",
      "--------------------\n",
      "'name' is a required property\n",
      "\n",
      "Failed validating 'required' in schema:\n",
      "    {'properties': {'name': {'type': 'string'}},\n",
      "     'required': ['name'],\n",
      "     'type': 'object'}\n",
      "\n",
      "On instance:\n",
      "    {'password': 'P4cC!^*8chWz8', 'profession': 'Hacker'} \n",
      "--------------------\n"
     ]
    }
   ],
   "source": [
    "for user in [barbara_feldon, intruder]:\n",
    "    if msg := not_valid(user, schema):\n",
    "        print(msg, \"\\n--------------------\")\n",
    "    else:\n",
    "        print(f\"User {user['name']} validates correctly\")"
   ]
  },
  {
   "cell_type": "markdown",
   "metadata": {
    "slideshow": {
     "slide_type": "slide"
    }
   },
   "source": [
    "## Nested Structure\n",
    "\n",
    "A JSON Schema allows specification of nested structures, including type and cardinality, and also may optionally contain a number of annotations to describe the schema itself.  Let us add a few. In the expanded schema, we will require a password along with a name.  Notice that we describe several aspects of what the field \"lucky_numbers\" might look like, but we do not make it required.  Guido had none, but David did; both should validate."
   ]
  },
  {
   "cell_type": "code",
   "execution_count": 14,
   "metadata": {
    "slideshow": {
     "slide_type": "subslide"
    }
   },
   "outputs": [],
   "source": [
    "schema = json.loads(\"\"\"{\n",
    "  \"$schema\": \"http://json-schema.org/draft-07/schema#\",\n",
    "  \"$id\": \"http://example.com/user.schema.json\",\n",
    "  \"title\": \"User\",\n",
    "  \"description\": \"A User of Our Computer System\",\n",
    "  \"type\" : \"object\",\n",
    "  \"required\": [\"name\", \"password\"],\n",
    "  \"properties\" : {\n",
    "     \"name\" : {\"type\" : \"string\"},\n",
    "     \"password\": {\n",
    "         \"description\": \"Use special characters and mixed case\",\n",
    "         \"type\": \"string\"},\n",
    "     \"lucky_numbers\": {\n",
    "         \"description\": \"Up to 6 favorite numbers 1-100\",\n",
    "         \"type\": \"array\",\n",
    "         \"items\": {\n",
    "           \"type\": \"number\",\n",
    "           \"minimum\": 1,\n",
    "           \"maximum\": 100\n",
    "         },\n",
    "         \"uniqueItems\": true,\n",
    "         \"minItems\": 0,\n",
    "         \"maxItems\": 6\n",
    "    }\n",
    "  }\n",
    "}\"\"\")"
   ]
  },
  {
   "cell_type": "markdown",
   "metadata": {
    "slideshow": {
     "slide_type": "subslide"
    }
   },
   "source": [
    "Our existing users continue to validate without a problem."
   ]
  },
  {
   "cell_type": "code",
   "execution_count": 15,
   "metadata": {
    "slideshow": {
     "slide_type": "fragment"
    }
   },
   "outputs": [
    {
     "name": "stdout",
     "output_type": "stream",
     "text": [
      "User Guido van Rossum validates correctly\n",
      "User David Mertz validates correctly\n"
     ]
    }
   ],
   "source": [
    "for user in [guido, david]:\n",
    "    if msg := not_valid(user, schema):\n",
    "        print(msg, \"\\n--------------------\")\n",
    "    else:\n",
    "        print(f\"User {user['name']} validates correctly\")"
   ]
  },
  {
   "cell_type": "markdown",
   "metadata": {
    "slideshow": {
     "slide_type": "subslide"
    }
   },
   "source": [
    "There are a few ways that validation might fail with the expanded schema.  Obviously, \"password\" was added as a required field, but the pattern there is identical as with \"name\".  The field \"lucky_numbers\" has more going on.  It might be omitted altogether for a valid users, but if it is included, it can only be an array (Python list) of numbers between 1 and 100; moreover, it can only have from zero to six numbers that must be distinct."
   ]
  },
  {
   "cell_type": "code",
   "execution_count": 16,
   "metadata": {
    "slideshow": {
     "slide_type": "subslide"
    }
   },
   "outputs": [
    {
     "name": "stdout",
     "output_type": "stream",
     "text": [
      "'one' is not of type 'number'\n",
      "\n",
      "Failed validating 'type' in schema['properties']['lucky_numbers']['items']:\n",
      "    {'maximum': 100, 'minimum': 1, 'type': 'number'}\n",
      "\n",
      "On instance['lucky_numbers'][0]:\n",
      "    'one' \n",
      "--------------------\n"
     ]
    }
   ],
   "source": [
    "the_count = json.loads(\"\"\"{\n",
    "  \"name\": \"Count von Count\",\n",
    "  \"password\": \"fourbananas\",\n",
    "  \"lucky_numbers\": [\"one\", \"two\", \"three\"]\n",
    "}\"\"\")\n",
    "\n",
    "if msg := not_valid(the_count, schema):\n",
    "    print(msg, \"\\n--------------------\")\n",
    "else:\n",
    "    print(f\"User {user['name']} validates correctly\")"
   ]
  },
  {
   "cell_type": "code",
   "execution_count": 17,
   "metadata": {
    "slideshow": {
     "slide_type": "subslide"
    }
   },
   "outputs": [
    {
     "name": "stdout",
     "output_type": "stream",
     "text": [
      "[1, 2, 3, 4, 5, 6, 7, 8] is too long\n",
      "\n",
      "Failed validating 'maxItems' in schema['properties']['lucky_numbers']:\n",
      "    {'description': 'Up to 6 favorite numbers 1-100',\n",
      "     'items': {'maximum': 100, 'minimum': 1, 'type': 'number'},\n",
      "     'maxItems': 6,\n",
      "     'minItems': 0,\n",
      "     'type': 'array',\n",
      "     'uniqueItems': True}\n",
      "\n",
      "On instance['lucky_numbers']:\n",
      "    [1, 2, 3, 4, 5, 6, 7, 8] \n",
      "--------------------\n"
     ]
    }
   ],
   "source": [
    "cantor = json.loads(\"\"\"{\n",
    "  \"name\": \"Georg Cantor\",\n",
    "  \"password\": \"omega_aleph\",\n",
    "  \"lucky_numbers\": [1, 2, 3, 4, 5, 6, 7, 8]\n",
    "}\"\"\")\n",
    "\n",
    "if msg := not_valid(cantor, schema):\n",
    "    print(msg, \"\\n--------------------\")\n",
    "else:\n",
    "    print(f\"User {user['name']} validates correctly\")"
   ]
  },
  {
   "cell_type": "code",
   "execution_count": 18,
   "metadata": {
    "slideshow": {
     "slide_type": "subslide"
    }
   },
   "outputs": [
    {
     "name": "stdout",
     "output_type": "stream",
     "text": [
      "[9, 9, 9] has non-unique elements\n",
      "\n",
      "Failed validating 'uniqueItems' in schema['properties']['lucky_numbers']:\n",
      "    {'description': 'Up to 6 favorite numbers 1-100',\n",
      "     'items': {'maximum': 100, 'minimum': 1, 'type': 'number'},\n",
      "     'maxItems': 6,\n",
      "     'minItems': 0,\n",
      "     'type': 'array',\n",
      "     'uniqueItems': True}\n",
      "\n",
      "On instance['lucky_numbers']:\n",
      "    [9, 9, 9] \n",
      "--------------------\n"
     ]
    }
   ],
   "source": [
    "revolution_9 = json.loads(\"\"\"{\n",
    "  \"name\": \"Yoko Ono\",\n",
    "  \"password\": \"grapefruit\",\n",
    "  \"lucky_numbers\": [9, 9, 9]\n",
    "}\"\"\")\n",
    "\n",
    "if msg := not_valid(revolution_9, schema):\n",
    "    print(msg, \"\\n--------------------\")\n",
    "else:\n",
    "    print(f\"User {user['name']} validates correctly\")"
   ]
  },
  {
   "cell_type": "code",
   "execution_count": 19,
   "metadata": {
    "slideshow": {
     "slide_type": "subslide"
    }
   },
   "outputs": [
    {
     "name": "stdout",
     "output_type": "stream",
     "text": [
      "1000000 is greater than the maximum of 100\n",
      "\n",
      "Failed validating 'maximum' in schema['properties']['lucky_numbers']['items']:\n",
      "    {'maximum': 100, 'minimum': 1, 'type': 'number'}\n",
      "\n",
      "On instance['lucky_numbers'][0]:\n",
      "    1000000 \n",
      "--------------------\n"
     ]
    }
   ],
   "source": [
    "go_big = json.loads(\"\"\"{\n",
    "  \"name\": \"Leslie Knope\",\n",
    "  \"password\": \"ilovepawnee\",\n",
    "  \"lucky_numbers\": [1000000, 200000]\n",
    "}\"\"\")\n",
    "\n",
    "if msg := not_valid(go_big, schema):\n",
    "    print(msg, \"\\n--------------------\")\n",
    "else:\n",
    "    print(f\"User {user['name']} validates correctly\")"
   ]
  }
 ],
 "metadata": {
  "celltoolbar": "Slideshow",
  "kernelspec": {
   "display_name": "Python 3",
   "language": "python",
   "name": "python3"
  },
  "language_info": {
   "codemirror_mode": {
    "name": "ipython",
    "version": 3
   },
   "file_extension": ".py",
   "mimetype": "text/x-python",
   "name": "python",
   "nbconvert_exporter": "python",
   "pygments_lexer": "ipython3",
   "version": "3.8.2"
  }
 },
 "nbformat": 4,
 "nbformat_minor": 4
}
