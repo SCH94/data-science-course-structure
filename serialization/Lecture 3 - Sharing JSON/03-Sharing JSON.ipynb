{
 "cells": [
  {
   "cell_type": "markdown",
   "metadata": {
    "slideshow": {
     "slide_type": "slide"
    }
   },
   "source": [
    "# Sharing JSON Among Languages\n",
    "\n",
    "JavaScript Object Notation (JSON) is designed as a data interchange format.  Specifically, it is pobably used most commonly for RESTful web service (Representational state transfer).  While those might run in Python, there are numerous other programming languages and frameworks they might use; notably JavaScript is a prominent option.  Every widely used modern programming language has libraries supporting JSON."
   ]
  },
  {
   "cell_type": "markdown",
   "metadata": {
    "slideshow": {
     "slide_type": "fragment"
    }
   },
   "source": [
    "For this lesson, we utilize an example Node.js server that is licensed as GPL v.3.0, and can be installed from Rob Kendal's GitHub repository at https://github.com/bpk68/api-server-starter.  That repository is accompanied by an excellent introductory article that describes the steps of creating a simple Node.js webserver.  I have modified that code only in minor ways for this lesson.  I will show two snippets of the JavaScript code used for illustration, but the focus here is on talking to the server from Python, not learning JavaScript or Node.js."
   ]
  },
  {
   "cell_type": "markdown",
   "metadata": {
    "slideshow": {
     "slide_type": "subslide"
    }
   },
   "source": [
    "Let us start out by loading a few Python standard library modules, and one widely-used third-party package, that this lesson will utilize."
   ]
  },
  {
   "cell_type": "code",
   "execution_count": 1,
   "metadata": {
    "slideshow": {
     "slide_type": "fragment"
    }
   },
   "outputs": [],
   "source": [
    "import json\n",
    "from http import HTTPStatus\n",
    "import requests\n",
    "!cp node-server/data/users-start.json node-server/data/users.json"
   ]
  },
  {
   "cell_type": "markdown",
   "metadata": {
    "slideshow": {
     "slide_type": "slide"
    }
   },
   "source": [
    "## Making REST Requests\n",
    "\n",
    "This lesson—and *microservices* very commonly—will consist of calling a webserver with a *payload* formatted as JSON, and receiving a response, also usually formatted as JSON.  This structure allows many servers to interact in a manner similar to function calls, with both computation and state distributed among the various servers.  An older approach to this same architecture was XMLRPC, which in fact has a current but legacy Python standard library module `xmlrpc` to support it."
   ]
  },
  {
   "cell_type": "markdown",
   "metadata": {
    "slideshow": {
     "slide_type": "subslide"
    }
   },
   "source": [
    "The server in this lesson provides a simple key/value database of users.  All users must have a name and a password, but they may also optionally have other data associated with them.  This design is obviously terrible from a security perspective, since \"passwords\" are transmitted and stored without encryption (as is other data), but that concern is not for this lesson."
   ]
  },
  {
   "cell_type": "markdown",
   "metadata": {
    "slideshow": {
     "slide_type": "fragment"
    }
   },
   "source": [
    "The third-party package `requests` is recommended for HTTP clients, even in the Python standard library documentation itself.  However, the standard library package `urllib.request` has a less intuitive API, but will perform the same tasks if the third-party package is not available.  In our server, we can query the data it contains by making a GET request to the endpoint `/users`.  "
   ]
  },
  {
   "cell_type": "markdown",
   "metadata": {
    "slideshow": {
     "slide_type": "subslide"
    }
   },
   "source": [
    "A GET request does not pass any JSON body data; in principle it could pass URL parameters to communicate data, but that style is not used in this lesson."
   ]
  },
  {
   "cell_type": "code",
   "execution_count": 2,
   "metadata": {
    "slideshow": {
     "slide_type": "fragment"
    }
   },
   "outputs": [
    {
     "name": "stdout",
     "output_type": "stream",
     "text": [
      "200\n",
      "application/json; charset=utf-8\n"
     ]
    },
    {
     "data": {
      "text/plain": [
       "{'1': {'name': 'Guido van Rossum',\n",
       "  'password': 'unladenswallow',\n",
       "  'details': {'profession': 'ex-BDFL'}},\n",
       " '2': {'name': 'Brendan Eich',\n",
       "  'password': 'nontransitiveequality',\n",
       "  'details': {'profession': 'Mozillan'}},\n",
       " '3': {'name': 'Ken Thompson',\n",
       "  'password': 'p/q2-q4!',\n",
       "  'details': {'profession': 'Unix Creator'}}}"
      ]
     },
     "execution_count": 2,
     "metadata": {},
     "output_type": "execute_result"
    }
   ],
   "source": [
    "# The URL of the RESTful server\n",
    "url = 'http://localhost:3001/users'\n",
    "\n",
    "# A response to the HTTP request\n",
    "response = requests.get(url) \n",
    "\n",
    "# Show status code and load JSON body\n",
    "print(response.status_code)\n",
    "print(response.headers['Content-Type'])\n",
    "json.loads(response.text)"
   ]
  },
  {
   "cell_type": "markdown",
   "metadata": {
    "slideshow": {
     "slide_type": "subslide"
    }
   },
   "source": [
    "### Unsuccessful Requests\n",
    "\n",
    "A well behaving webserver will return a status code indicating the nature of the problem with a request. A very small support function will help us show the response details."
   ]
  },
  {
   "cell_type": "code",
   "execution_count": 3,
   "metadata": {
    "slideshow": {
     "slide_type": "fragment"
    }
   },
   "outputs": [],
   "source": [
    "def phrase(response):\n",
    "    for st in HTTPStatus:\n",
    "        if st.value == response.status_code:\n",
    "            return f\"{st.value} {st.phrase}\""
   ]
  },
  {
   "cell_type": "markdown",
   "metadata": {
    "slideshow": {
     "slide_type": "subslide"
    }
   },
   "source": [
    "Trying a resource that simply does not exist."
   ]
  },
  {
   "cell_type": "code",
   "execution_count": 4,
   "metadata": {
    "slideshow": {
     "slide_type": "fragment"
    }
   },
   "outputs": [
    {
     "name": "stdout",
     "output_type": "stream",
     "text": [
      "404 Not Found\n",
      "Expecting value: line 1 column 1 (char 0)\n"
     ]
    }
   ],
   "source": [
    "url2 = 'http://localhost:3001/nonesuch'\n",
    "response = requests.get(url2) \n",
    "print(phrase(response))\n",
    "try:\n",
    "    json.loads(response.text)\n",
    "except Exception as err:\n",
    "    print(err)"
   ]
  },
  {
   "cell_type": "markdown",
   "metadata": {
    "slideshow": {
     "slide_type": "subslide"
    }
   },
   "source": [
    "At times we might see a status code that is neither 200 nor 404.  A 404 will not have any body, but other status codes are likely to have a body that is encoded as plain text or in another manner.  We can use this clue to decide whether to JSON decode the body."
   ]
  },
  {
   "cell_type": "code",
   "execution_count": 5,
   "metadata": {
    "slideshow": {
     "slide_type": "fragment"
    }
   },
   "outputs": [
    {
     "name": "stdout",
     "output_type": "stream",
     "text": [
      "410 Gone\n",
      "text/plain; charset=utf-8\n"
     ]
    },
    {
     "data": {
      "text/plain": [
       "'Resource has been disabled'"
      ]
     },
     "execution_count": 5,
     "metadata": {},
     "output_type": "execute_result"
    }
   ],
   "source": [
    "url3 = 'http://localhost:3001/disabled'\n",
    "response = requests.get(url3) \n",
    "print(phrase(response))\n",
    "print(response.headers['Content-Type'])\n",
    "response.text"
   ]
  },
  {
   "cell_type": "markdown",
   "metadata": {
    "slideshow": {
     "slide_type": "slide"
    }
   },
   "source": [
    "## Pushing JSON\n",
    "\n",
    "The way this server is configured, the same endpoint behaves differently if it receives a POST request rather than a GET request.  With a POST, a new record is added to the database."
   ]
  },
  {
   "cell_type": "code",
   "execution_count": 6,
   "metadata": {
    "slideshow": {
     "slide_type": "fragment"
    }
   },
   "outputs": [
    {
     "name": "stdout",
     "output_type": "stream",
     "text": [
      "200 OK\n"
     ]
    },
    {
     "data": {
      "text/plain": [
       "'new user id:4 added'"
      ]
     },
     "execution_count": 6,
     "metadata": {},
     "output_type": "execute_result"
    }
   ],
   "source": [
    "headers = {'content-type': 'application/json'}\n",
    "user = {\"name\": \"David Mertz\",  \n",
    "        \"password\": \"badpassword\", \n",
    "        \"details\": {\n",
    "            \"profession\": \"Data Scientist\", \n",
    "            \"publisher\": \"INE\"},\n",
    "        \"lucky_numbers\": [12, 42, 55, 87]\n",
    "       }\n",
    "\n",
    "response = requests.post(url, data=json.dumps(user), headers=headers)\n",
    "print(phrase(response))\n",
    "response.text"
   ]
  },
  {
   "cell_type": "markdown",
   "metadata": {
    "slideshow": {
     "slide_type": "subslide"
    }
   },
   "source": [
    "Let us make sure the database has the contents we hope for."
   ]
  },
  {
   "cell_type": "code",
   "execution_count": 7,
   "metadata": {
    "slideshow": {
     "slide_type": "fragment"
    }
   },
   "outputs": [
    {
     "data": {
      "text/plain": [
       "{'1': {'name': 'Guido van Rossum',\n",
       "  'password': 'unladenswallow',\n",
       "  'details': {'profession': 'ex-BDFL'}},\n",
       " '2': {'name': 'Brendan Eich',\n",
       "  'password': 'nontransitiveequality',\n",
       "  'details': {'profession': 'Mozillan'}},\n",
       " '3': {'name': 'Ken Thompson',\n",
       "  'password': 'p/q2-q4!',\n",
       "  'details': {'profession': 'Unix Creator'}},\n",
       " '4': {'name': 'David Mertz',\n",
       "  'password': 'badpassword',\n",
       "  'details': {'profession': 'Data Scientist', 'publisher': 'INE'},\n",
       "  'lucky_numbers': [12, 42, 55, 87]}}"
      ]
     },
     "execution_count": 7,
     "metadata": {},
     "output_type": "execute_result"
    }
   ],
   "source": [
    "response = requests.get(url) \n",
    "json.loads(response.text)"
   ]
  },
  {
   "cell_type": "markdown",
   "metadata": {
    "slideshow": {
     "slide_type": "subslide"
    }
   },
   "source": [
    "The server may validate a POST request (or any request) in some manner, and return an appropriate status based on the JSON passed to it."
   ]
  },
  {
   "cell_type": "code",
   "execution_count": 9,
   "metadata": {
    "slideshow": {
     "slide_type": "fragment"
    }
   },
   "outputs": [
    {
     "name": "stdout",
     "output_type": "stream",
     "text": [
      "400 Bad Request\n"
     ]
    },
    {
     "data": {
      "text/plain": [
       "'User property \"name\" is required'"
      ]
     },
     "execution_count": 9,
     "metadata": {},
     "output_type": "execute_result"
    }
   ],
   "source": [
    "anon = {\"password\": \"P4cC!^*8chWz8\", \"profession\": \"Hacker\"}\n",
    "response = requests.post(url, data=json.dumps(anon), headers=headers)\n",
    "print(phrase(response))\n",
    "response.text"
   ]
  },
  {
   "cell_type": "markdown",
   "metadata": {
    "slideshow": {
     "slide_type": "slide"
    }
   },
   "source": [
    "# What the Server is Doing\n",
    "\n",
    "The Node.js server has a bit of scaffolding to implement a server.  A very similar webserver could be implemented in Python or any other programming language.  While you may not be familiar with JavaScript, the below code should not be difficult to understand in outline.  This is the code that handle a POST to the `/users` route."
   ]
  },
  {
   "cell_type": "markdown",
   "metadata": {
    "slideshow": {
     "slide_type": "subslide"
    }
   },
   "source": [
    "```javascript\n",
    "// CREATE\n",
    "app.post('/users', (req, res) => {      \n",
    "    // validation\n",
    "    if (! req.body.hasOwnProperty('name')) {\n",
    "        res.status(400).send('User property \"name\" is required');\n",
    "    }\n",
    "```\n",
    "```javascript\n",
    "    // add the new user\n",
    "    else {\n",
    "        readFile(data => {\n",
    "            const newUserId = Object.keys(data).length + 1;\n",
    "            data[newUserId.toString()] = req.body;\n",
    "            writeFile(JSON.stringify(data, null, 2), () => {\n",
    "                res.status(200).send(`new user id:${newUserId} added`);\n",
    "            });\n",
    "```\n",
    "```javascript\n",
    "        },\n",
    "            true);\n",
    "    }\n",
    "});\n",
    "```"
   ]
  },
  {
   "cell_type": "markdown",
   "metadata": {
    "slideshow": {
     "slide_type": "subslide"
    }
   },
   "source": [
    "Although the data file that stores the database is itself simply JSON, the server explicitly parses it as JSON to assure the format.  Setting the header immediately before the call to `res.send()` is redundant because the server can detect the type from the JSON object; I added it to illustrate that we are able to explicitly set it.  Very similar APIs are present in Python websevers."
   ]
  },
  {
   "cell_type": "markdown",
   "metadata": {
    "slideshow": {
     "slide_type": "fragment"
    }
   },
   "source": [
    "```json\n",
    "// READ\n",
    "app.get('/users', (req, res) => {\n",
    "    fs.readFile(dataPath, 'utf8', (err, data) => {\n",
    "        if (err) {\n",
    "            throw err;\n",
    "        }\n",
    "```\n",
    "```javascript\n",
    "        // framework detects JSON, but set explicitly\n",
    "        res.setHeader('Content-Type', 'application/json');\n",
    "        res.send(JSON.parse(data));\n",
    "    });\n",
    "});\n",
    "```"
   ]
  }
 ],
 "metadata": {
  "celltoolbar": "Slideshow",
  "kernelspec": {
   "display_name": "Python 3",
   "language": "python",
   "name": "python3"
  },
  "language_info": {
   "codemirror_mode": {
    "name": "ipython",
    "version": 3
   },
   "file_extension": ".py",
   "mimetype": "text/x-python",
   "name": "python",
   "nbconvert_exporter": "python",
   "pygments_lexer": "ipython3",
   "version": "3.8.2"
  }
 },
 "nbformat": 4,
 "nbformat_minor": 4
}
