{
 "cells": [
  {
   "cell_type": "markdown",
   "metadata": {
    "slideshow": {
     "slide_type": "slide"
    }
   },
   "source": [
    "# Reading CSV with Standard Library\n",
    "\n",
    "Python provides a module in its standard library for reading and writing CSV or other delimited files.  It can be tempting to create or read such files using only Python's powerful string manipulation functionality.  Indeed, the author of this tutorial has done so far more often than he wishes to admit; however, it is a mistake to eschew the `csv` module which simply deals with many edge cases that are easy to overlook in quick scripts."
   ]
  },
  {
   "cell_type": "markdown",
   "metadata": {
    "slideshow": {
     "slide_type": "fragment"
    }
   },
   "source": [
    "Let us start out by loading a few Python standard library modules that this lesson will utilize."
   ]
  },
  {
   "cell_type": "code",
   "execution_count": 1,
   "metadata": {
    "slideshow": {
     "slide_type": "fragment"
    }
   },
   "outputs": [],
   "source": [
    "import csv\n",
    "from pprint import pprint\n",
    "from collections import namedtuple\n",
    "from decimal import Decimal"
   ]
  },
  {
   "cell_type": "markdown",
   "metadata": {
    "slideshow": {
     "slide_type": "slide"
    }
   },
   "source": [
    "# Doing it Wrong\n",
    "\n",
    "In Python, the string methods `.split()` and `.join()` do 90% of what we need to in working with CSV.  The problem is, they do not do the other 10%.  Let's try a naive approach that goes bad."
   ]
  },
  {
   "cell_type": "code",
   "execution_count": 2,
   "metadata": {
    "slideshow": {
     "slide_type": "fragment"
    }
   },
   "outputs": [],
   "source": [
    "fields = [\"Name\", \"Evaluation\", \"Rating\", \"Age\"]\n",
    "data = [\n",
    "    [\"Mia Johnson\", \"The movie was excellent\", 9.5, 25],\n",
    "    [\"Liam Lopez\", \"Didn't really like it\", 3.0, 35],\n",
    "    [\"Isabella Lee\", \"Wow! That was great\", 8.0, 45]\n",
    "]"
   ]
  },
  {
   "cell_type": "markdown",
   "metadata": {
    "slideshow": {
     "slide_type": "subslide"
    }
   },
   "source": [
    "This is unremarkable data about several movie evaluations.  Let us try to serialize it."
   ]
  },
  {
   "cell_type": "code",
   "execution_count": 3,
   "metadata": {
    "slideshow": {
     "slide_type": "fragment"
    }
   },
   "outputs": [
    {
     "name": "stdout",
     "output_type": "stream",
     "text": [
      "sequence item 2: expected str instance, float found\n"
     ]
    }
   ],
   "source": [
    "with open('data/movie.csv', 'w') as movie:\n",
    "    try:\n",
    "        print(\",\".join(fields), file=movie)\n",
    "        for record in data:\n",
    "            print(\",\".join(record), file=movie)\n",
    "    except Exception as err:\n",
    "        print(err)"
   ]
  },
  {
   "cell_type": "markdown",
   "metadata": {
    "slideshow": {
     "slide_type": "subslide"
    }
   },
   "source": [
    "It is easy to see what went wrong.  The `.join()` method needs only strings in the iterable argument.  We can fix that fairly easily.  Python knows how to *stringify* all its objects."
   ]
  },
  {
   "cell_type": "code",
   "execution_count": 4,
   "metadata": {
    "slideshow": {
     "slide_type": "fragment"
    }
   },
   "outputs": [],
   "source": [
    "with open('data/movie.csv', 'w') as movie:\n",
    "    try:\n",
    "        print(\",\".join(fields), file=movie)\n",
    "        for record in data:\n",
    "            print(\",\".join(str(r) for r in record), file=movie)\n",
    "    except Exception as err:\n",
    "        print(err)"
   ]
  },
  {
   "cell_type": "markdown",
   "metadata": {
    "slideshow": {
     "slide_type": "fragment"
    }
   },
   "source": [
    "Success! At least for now. Perhaps we want to read it back as a list of dictionaries."
   ]
  },
  {
   "cell_type": "markdown",
   "metadata": {
    "slideshow": {
     "slide_type": "subslide"
    }
   },
   "source": [
    "We need to read the header first to use as keys, then we can pull values from each corresponding position in later rows."
   ]
  },
  {
   "cell_type": "code",
   "execution_count": 5,
   "metadata": {
    "slideshow": {
     "slide_type": "fragment"
    }
   },
   "outputs": [
    {
     "name": "stdout",
     "output_type": "stream",
     "text": [
      "[{'Age\\n': '25\\n',\n",
      "  'Evaluation': 'The movie was excellent',\n",
      "  'Name': 'Mia Johnson',\n",
      "  'Rating': '9.5'},\n",
      " {'Age\\n': '35\\n',\n",
      "  'Evaluation': \"Didn't really like it\",\n",
      "  'Name': 'Liam Lopez',\n",
      "  'Rating': '3.0'},\n",
      " {'Age\\n': '45\\n',\n",
      "  'Evaluation': 'Wow! That was great',\n",
      "  'Name': 'Isabella Lee',\n",
      "  'Rating': '8.0'}]\n"
     ]
    }
   ],
   "source": [
    "with open('data/movie.csv') as movie:\n",
    "    newdata = []\n",
    "    keys = next(movie).split(',') # Header\n",
    "    for line in movie:\n",
    "        newdata.append(dict(zip(keys, line.split(','))))\n",
    "    \n",
    "pprint(newdata)"
   ]
  },
  {
   "cell_type": "markdown",
   "metadata": {
    "slideshow": {
     "slide_type": "subslide"
    }
   },
   "source": [
    "We did *pretty well*.  However, the last field of header and data have a trailing newline chacter we do not really want.  We can strip that, but other problems still arise."
   ]
  },
  {
   "cell_type": "code",
   "execution_count": 6,
   "metadata": {
    "slideshow": {
     "slide_type": "fragment"
    }
   },
   "outputs": [
    {
     "name": "stdout",
     "output_type": "stream",
     "text": [
      "[{'Age': '25',\n",
      "  'Evaluation': 'The movie was excellent',\n",
      "  'Name': 'Mia Johnson',\n",
      "  'Rating': '9.5'},\n",
      " {'Age': '35',\n",
      "  'Evaluation': \"Didn't really like it\",\n",
      "  'Name': 'Liam Lopez',\n",
      "  'Rating': '3.0'},\n",
      " {'Age': '45',\n",
      "  'Evaluation': 'Wow! That was great',\n",
      "  'Name': 'Isabella Lee',\n",
      "  'Rating': '8.0'}]\n"
     ]
    }
   ],
   "source": [
    "with open('data/movie.csv') as movie:\n",
    "    newdata = []\n",
    "    line = next(movie).rstrip()  # Header\n",
    "    keys = line.split(',') \n",
    "    for line in movie:\n",
    "        line = line.rstrip()\n",
    "        newdata.append(dict(zip(keys, line.split(','))))\n",
    "    \n",
    "pprint(newdata)"
   ]
  },
  {
   "cell_type": "markdown",
   "metadata": {
    "slideshow": {
     "slide_type": "subslide"
    }
   },
   "source": [
    "Our ad hoc reader and writer behave well enough.  Let us add an additional record and try again."
   ]
  },
  {
   "cell_type": "code",
   "execution_count": 7,
   "metadata": {
    "slideshow": {
     "slide_type": "fragment"
    }
   },
   "outputs": [],
   "source": [
    "new_eval = [\"Olivia Gupta\", \"Meh, not my thing\", 2.5, 55]\n",
    "data.append(new_eval)\n",
    "\n",
    "with open('data/movie.csv', 'w') as movie:\n",
    "    try:\n",
    "        print(\",\".join(fields), file=movie)\n",
    "        for record in data:\n",
    "            print(\",\".join(str(r) for r in record), file=movie)\n",
    "    except Exception as err:\n",
    "        print(err)"
   ]
  },
  {
   "cell_type": "markdown",
   "metadata": {
    "slideshow": {
     "slide_type": "fragment"
    }
   },
   "source": [
    "We can see that something is going to go wrong when a field can legitimately contain the delimiter."
   ]
  },
  {
   "cell_type": "code",
   "execution_count": 8,
   "metadata": {
    "slideshow": {
     "slide_type": "fragment"
    }
   },
   "outputs": [
    {
     "name": "stdout",
     "output_type": "stream",
     "text": [
      "Name,Evaluation,Rating,Age\r\n",
      "Mia Johnson,The movie was excellent,9.5,25\r\n",
      "Liam Lopez,Didn't really like it,3.0,35\r\n",
      "Isabella Lee,Wow! That was great,8.0,45\r\n",
      "Olivia Gupta,Meh, not my thing,2.5,55\r\n"
     ]
    }
   ],
   "source": [
    "!cat data/movie.csv"
   ]
  },
  {
   "cell_type": "markdown",
   "metadata": {
    "slideshow": {
     "slide_type": "subslide"
    }
   },
   "source": [
    "Let's use the idential ad hoc reader to read the data on disk again."
   ]
  },
  {
   "cell_type": "code",
   "execution_count": 9,
   "metadata": {
    "slideshow": {
     "slide_type": "fragment"
    }
   },
   "outputs": [
    {
     "name": "stdout",
     "output_type": "stream",
     "text": [
      "[{'Age': '25',\n",
      "  'Evaluation': 'The movie was excellent',\n",
      "  'Name': 'Mia Johnson',\n",
      "  'Rating': '9.5'},\n",
      " {'Age': '35',\n",
      "  'Evaluation': \"Didn't really like it\",\n",
      "  'Name': 'Liam Lopez',\n",
      "  'Rating': '3.0'},\n",
      " {'Age': '45',\n",
      "  'Evaluation': 'Wow! That was great',\n",
      "  'Name': 'Isabella Lee',\n",
      "  'Rating': '8.0'},\n",
      " {'Age': '2.5',\n",
      "  'Evaluation': 'Meh',\n",
      "  'Name': 'Olivia Gupta',\n",
      "  'Rating': ' not my thing'}]\n"
     ]
    }
   ],
   "source": [
    "with open('data/movie.csv') as movie:\n",
    "    newdata = []\n",
    "    line = next(movie).rstrip()\n",
    "    keys = line.split(',') # Header\n",
    "    for line in movie:\n",
    "        line = line.rstrip()\n",
    "        newdata.append(dict(zip(keys, line.split(','))))\n",
    "\n",
    "pprint(newdata)"
   ]
  },
  {
   "cell_type": "markdown",
   "metadata": {
    "slideshow": {
     "slide_type": "subslide"
    }
   },
   "source": [
    "As written, nothing crashed.  But we also get data in the wrong fields sometimes. Another likely problem is handling embedded newlines in strings; a few other edge cases also occur. We could complicate matters with some additional code, and eventually get it right.  But the Python standard library does that for us."
   ]
  },
  {
   "cell_type": "markdown",
   "metadata": {
    "slideshow": {
     "slide_type": "slide"
    }
   },
   "source": [
    "# The `csv` Module\n",
    "\n",
    "In the basic case, using the `csv` module gives us a largely file-like interface.  It merely handles a few things that can go wrong automatically."
   ]
  },
  {
   "cell_type": "code",
   "execution_count": 10,
   "metadata": {
    "slideshow": {
     "slide_type": "fragment"
    }
   },
   "outputs": [
    {
     "name": "stdout",
     "output_type": "stream",
     "text": [
      "Name,Evaluation,Rating,Age\r",
      "\r\n",
      "Mia Johnson,The movie was excellent,9.5,25\r",
      "\r\n",
      "Liam Lopez,Didn't really like it,3.0,35\r",
      "\r\n",
      "Isabella Lee,Wow! That was great,8.0,45\r",
      "\r\n",
      "Olivia Gupta,\"Meh, not my thing\",2.5,55\r",
      "\r\n"
     ]
    }
   ],
   "source": [
    "with open('data/movie.csv', 'w') as fh:\n",
    "    movie = csv.writer(fh, quoting=csv.QUOTE_MINIMAL)\n",
    "    for record in [fields]+data:\n",
    "        movie.writerow(record)\n",
    "        \n",
    "!cat data/movie.csv"
   ]
  },
  {
   "cell_type": "markdown",
   "metadata": {
    "slideshow": {
     "slide_type": "subslide"
    }
   },
   "source": [
    "Reading the data back is similar, with quoting and escaping handled properly."
   ]
  },
  {
   "cell_type": "code",
   "execution_count": 11,
   "metadata": {
    "slideshow": {
     "slide_type": "fragment"
    }
   },
   "outputs": [
    {
     "name": "stdout",
     "output_type": "stream",
     "text": [
      "['Name', 'Evaluation', 'Rating', 'Age']\n",
      "['Mia Johnson', 'The movie was excellent', '9.5', '25']\n",
      "['Liam Lopez', \"Didn't really like it\", '3.0', '35']\n",
      "['Isabella Lee', 'Wow! That was great', '8.0', '45']\n",
      "['Olivia Gupta', 'Meh, not my thing', '2.5', '55']\n"
     ]
    }
   ],
   "source": [
    "with open('data/movie.csv') as fh:\n",
    "    movie = csv.reader(fh)\n",
    "    for record in movie:\n",
    "        print(record)"
   ]
  },
  {
   "cell_type": "markdown",
   "metadata": {
    "slideshow": {
     "slide_type": "subslide"
    }
   },
   "source": [
    "## Data Typing\n",
    "\n",
    "Unlike some other tools, the standard library `csv` module makes little attempt to impose datatypes.  During writing, it will, of course, stringify objects that are not strings.  It usually leaves the decision of casting to other types up to the programmer.  "
   ]
  },
  {
   "cell_type": "code",
   "execution_count": 12,
   "metadata": {
    "slideshow": {
     "slide_type": "fragment"
    }
   },
   "outputs": [
    {
     "name": "stdout",
     "output_type": "stream",
     "text": [
      "\"Name\",\"Evaluation\",\"Rating\",\"Age\"\r",
      "\r\n",
      "\"Mia Johnson\",\"The movie was excellent\",9.5,25\r",
      "\r\n",
      "\"Liam Lopez\",\"Didn't really like it\",3.0,35\r",
      "\r\n",
      "\"Isabella Lee\",\"Wow! That was great\",8.0,45\r",
      "\r\n",
      "\"Olivia Gupta\",\"Meh, not my thing\",2.5,55\r",
      "\r\n"
     ]
    }
   ],
   "source": [
    "with open('data/movie.csv', 'w') as fh:\n",
    "    movie = csv.writer(fh, quoting=csv.QUOTE_NONNUMERIC)\n",
    "    for record in [fields]+data:\n",
    "        movie.writerow(record)\n",
    "        \n",
    "!cat data/movie.csv"
   ]
  },
  {
   "cell_type": "markdown",
   "metadata": {
    "slideshow": {
     "slide_type": "subslide"
    }
   },
   "source": [
    "The `csv` module provides a limited option to quote all strings and to infer that anything unquoted is a number instead.  The numeric type used is always a floating point for this rule.  If you wish to read in an int, or a Decimal or Fraction, or another numeric type, you still need to write more custom code."
   ]
  },
  {
   "cell_type": "code",
   "execution_count": 13,
   "metadata": {
    "slideshow": {
     "slide_type": "fragment"
    }
   },
   "outputs": [
    {
     "name": "stdout",
     "output_type": "stream",
     "text": [
      "['Name', 'Evaluation', 'Rating', 'Age']\n",
      "['Mia Johnson', 'The movie was excellent', 9.5, 25.0]\n",
      "['Liam Lopez', \"Didn't really like it\", 3.0, 35.0]\n",
      "['Isabella Lee', 'Wow! That was great', 8.0, 45.0]\n",
      "['Olivia Gupta', 'Meh, not my thing', 2.5, 55.0]\n"
     ]
    }
   ],
   "source": [
    "with open('data/movie.csv') as fh:\n",
    "    movie = csv.reader(fh, quoting=csv.QUOTE_NONNUMERIC)\n",
    "    for record in movie:\n",
    "        print(record)"
   ]
  },
  {
   "cell_type": "markdown",
   "metadata": {
    "slideshow": {
     "slide_type": "subslide"
    }
   },
   "source": [
    "Probably what we really want is to specify various data types for various columns.  In the example, Age is probably meant as in integer and Rating as a fractional number.  While we are customizing, perhaps a different collection type than a list is a more descriptive way to store records."
   ]
  },
  {
   "cell_type": "code",
   "execution_count": 14,
   "metadata": {
    "slideshow": {
     "slide_type": "fragment"
    }
   },
   "outputs": [
    {
     "name": "stdout",
     "output_type": "stream",
     "text": [
      "[Movie(Name='Mia Johnson', Evaluation='The movie was excellent', Rating=Decimal('9.5'), Age=25),\n",
      " Movie(Name='Liam Lopez', Evaluation=\"Didn't really like it\", Rating=Decimal('3.0'), Age=35),\n",
      " Movie(Name='Isabella Lee', Evaluation='Wow! That was great', Rating=Decimal('8.0'), Age=45),\n",
      " Movie(Name='Olivia Gupta', Evaluation='Meh, not my thing', Rating=Decimal('2.5'), Age=55)]\n"
     ]
    }
   ],
   "source": [
    "# Specify special types, string by default\n",
    "types = {'Age': int, 'Rating': Decimal}\n",
    "\n",
    "with open('data/movie.csv') as fh:\n",
    "    newdata = []\n",
    "    # Create a descriptive record for this data\n",
    "    movie = csv.reader(fh)\n",
    "    fields = next(movie)\n",
    "    Movie = namedtuple(\"Movie\", fields)\n",
    "    for record in movie:\n",
    "        # Cast each item to its needed datatype\n",
    "        for pos, datum in enumerate(record):\n",
    "            cast = types.get(fields[pos], str)\n",
    "            record[pos] = cast(datum)\n",
    "        newdata.append(Movie(*record))\n",
    "        \n",
    "pprint(newdata)"
   ]
  },
  {
   "cell_type": "markdown",
   "metadata": {
    "slideshow": {
     "slide_type": "slide"
    }
   },
   "source": [
    "## Records as Dictionaries\n",
    "\n",
    "A namedtuple or a dataclass are useful Python standard library types for structured collections. The built-in standard type for doing that is a dictionary.  The `csv` module includes classes to make reading or writing dicts convenient.  These different types have pros and cons, but all are useful.  Dictionaries come with convenience classes to make similar code slightly shorter."
   ]
  },
  {
   "cell_type": "code",
   "execution_count": 15,
   "metadata": {
    "slideshow": {
     "slide_type": "fragment"
    }
   },
   "outputs": [
    {
     "name": "stdout",
     "output_type": "stream",
     "text": [
      "{'Name': 'Mia Johnson', 'Evaluation': 'The movie was excellent', 'Rating': 9.5, 'Age': 25.0}\n",
      "{'Name': 'Liam Lopez', 'Evaluation': \"Didn't really like it\", 'Rating': 3.0, 'Age': 35.0}\n",
      "{'Name': 'Isabella Lee', 'Evaluation': 'Wow! That was great', 'Rating': 8.0, 'Age': 45.0}\n",
      "{'Name': 'Olivia Gupta', 'Evaluation': 'Meh, not my thing', 'Rating': 2.5, 'Age': 55.0}\n"
     ]
    }
   ],
   "source": [
    "with open('data/movie.csv') as fh:\n",
    "    movie = csv.DictReader(fh, quoting=csv.QUOTE_NONNUMERIC)\n",
    "    for record in movie:\n",
    "        print(record)"
   ]
  },
  {
   "cell_type": "markdown",
   "metadata": {
    "slideshow": {
     "slide_type": "subslide"
    }
   },
   "source": [
    "Writing dictionaries back out to CSV is very similar.  Here we add a minor option, `newline=` in order to be able to write records with newlines in strings.  While we are doing that, let us also use a different delimiter to demonstrate that."
   ]
  },
  {
   "cell_type": "code",
   "execution_count": 16,
   "metadata": {
    "slideshow": {
     "slide_type": "fragment"
    }
   },
   "outputs": [
    {
     "name": "stdout",
     "output_type": "stream",
     "text": [
      "Name|Rating|Age\r",
      "\r\n",
      "\"Mia\r\n",
      "Johnson\"|9.5|25\r",
      "\r\n",
      "Liam Lopez||35\r",
      "\r\n",
      "\"Isabella \"\"Bella\"\" Lee\"|8.0|45\r",
      "\r\n"
     ]
    }
   ],
   "source": [
    "with open('data/movie.txt', 'w', newline='') as fh:\n",
    "    fields = ['Name', 'Rating', 'Age']\n",
    "    movie = csv.DictWriter(fh, fieldnames=fields, delimiter=\"|\")\n",
    "    movie.writeheader()\n",
    "    movie.writerow({'Name': 'Mia\\nJohnson', 'Rating': 9.5, 'Age': 25})\n",
    "    movie.writerow({'Age': 35, 'Name': 'Liam Lopez'})\n",
    "    movie.writerow({'Name': 'Isabella \"Bella\" Lee', 'Rating': 8.0, 'Age': 45})\n",
    "\n",
    "!cat data/movie.txt"
   ]
  },
  {
   "cell_type": "markdown",
   "metadata": {
    "slideshow": {
     "slide_type": "subslide"
    }
   },
   "source": [
    "Despite the slightly surprising newline inside a field, this will round-trip perfectly fine because of the quote.  The quotes inside one of the fields are also handle correctly."
   ]
  },
  {
   "cell_type": "code",
   "execution_count": 17,
   "metadata": {
    "slideshow": {
     "slide_type": "fragment"
    }
   },
   "outputs": [
    {
     "name": "stdout",
     "output_type": "stream",
     "text": [
      "{'Name': 'Mia\\nJohnson', 'Rating': '9.5', 'Age': '25'}\n",
      "{'Name': 'Liam Lopez', 'Rating': '', 'Age': '35'}\n",
      "{'Name': 'Isabella \"Bella\" Lee', 'Rating': '8.0', 'Age': '45'}\n"
     ]
    }
   ],
   "source": [
    "with open('data/movie.txt', newline='') as fh:\n",
    "    movie = csv.DictReader(fh, delimiter=\"|\")\n",
    "    for record in movie:\n",
    "        print(record)"
   ]
  }
 ],
 "metadata": {
  "celltoolbar": "Slideshow",
  "kernelspec": {
   "display_name": "Python 3",
   "language": "python",
   "name": "python3"
  },
  "language_info": {
   "codemirror_mode": {
    "name": "ipython",
    "version": 3
   },
   "file_extension": ".py",
   "mimetype": "text/x-python",
   "name": "python",
   "nbconvert_exporter": "python",
   "pygments_lexer": "ipython3",
   "version": "3.8.2"
  }
 },
 "nbformat": 4,
 "nbformat_minor": 4
}
