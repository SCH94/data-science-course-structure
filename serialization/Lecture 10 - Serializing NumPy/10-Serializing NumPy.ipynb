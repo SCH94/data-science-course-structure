{
 "cells": [
  {
   "cell_type": "markdown",
   "metadata": {
    "slideshow": {
     "slide_type": "slide"
    }
   },
   "source": [
    "# Saving and Loading NumPy Arrays\n",
    "\n",
    "While not part of Python itself, the NumPy array library forms the basis for nearly all numeric computation within Python.  A few core features of the Python language have been specialized to accomodate the NumPy community and library.  The most notable examples of the language definition being modified for the sake of NumPy are the extended slice notation and the matrix multiply operator."
   ]
  },
  {
   "cell_type": "markdown",
   "metadata": {
    "slideshow": {
     "slide_type": "subslide"
    }
   },
   "source": [
    "The *stride* argument to slices was added in Python 1.4 (long ago), but was not used by Python lists, tuples, or strings until 2.3 (still a long time).  The use of commas within compound slice descriptions is not used anywhere in Python's standard library but exists so that NumPy (and later other libraries) can utilize it.  Similarly, the operator `@` is not used anywhere in Python itself or its standard library, but was added so that NumPy can use it to denote matrix multiplication (some other libraries have utilized it for other purposes since then)."
   ]
  },
  {
   "cell_type": "code",
   "execution_count": 1,
   "metadata": {
    "slideshow": {
     "slide_type": "fragment"
    }
   },
   "outputs": [],
   "source": [
    "import pickle\n",
    "import numpy as np\n",
    "!rm tmp/*"
   ]
  },
  {
   "cell_type": "markdown",
   "metadata": {
    "slideshow": {
     "slide_type": "slide"
    }
   },
   "source": [
    "# Serializing with Pickle\n",
    "\n",
    "Most Python objects, even those in extension libraries, can be serialized and deserialized with `pickle` module.  Classes are able to define a few protocol methods that allow them to interoperate with pickling.  For most purposes, pickle is fine for representing NumPy arrays.  Let us create one and roundtrip it."
   ]
  },
  {
   "cell_type": "code",
   "execution_count": 2,
   "metadata": {
    "slideshow": {
     "slide_type": "fragment"
    }
   },
   "outputs": [
    {
     "data": {
      "text/plain": [
       "(100, 100, 100)"
      ]
     },
     "execution_count": 2,
     "metadata": {},
     "output_type": "execute_result"
    }
   ],
   "source": [
    "arr = np.random.randint(1, 100, 1_000_000).reshape(100, 100, 100)\n",
    "arr.shape"
   ]
  },
  {
   "cell_type": "code",
   "execution_count": 3,
   "metadata": {
    "slideshow": {
     "slide_type": "fragment"
    }
   },
   "outputs": [
    {
     "data": {
      "text/plain": [
       "array([[1456,  520, 3900, 4992],\n",
       "       [ 420,  150, 1125, 1440],\n",
       "       [1736,  620, 4650, 5952],\n",
       "       [1204,  430, 3225, 4128]])"
      ]
     },
     "execution_count": 3,
     "metadata": {},
     "output_type": "execute_result"
    }
   ],
   "source": [
    "# Syntax extras for NumPy (matrix multiply dimensional slices)\n",
    "arr[2:6, 4, 3:4] @ arr[8:9, 3, 4:8]"
   ]
  },
  {
   "cell_type": "markdown",
   "metadata": {
    "slideshow": {
     "slide_type": "subslide"
    }
   },
   "source": [
    "Dumping and loading a pickle of a NumPy array is the same as for any Python object."
   ]
  },
  {
   "cell_type": "code",
   "execution_count": 4,
   "metadata": {
    "slideshow": {
     "slide_type": "fragment"
    }
   },
   "outputs": [
    {
     "data": {
      "text/plain": [
       "array([[[87, 32,  7, ..., 25, 94, 44],\n",
       "        [12, 13, 87, ..., 56, 97, 61],\n",
       "        [36, 19, 75, ..., 41, 69, 95],\n",
       "        ...,\n",
       "        [61,  7, 25, ...,  7, 63, 29],\n",
       "        [ 7, 24, 75, ..., 86, 81, 13],\n",
       "        [75, 55, 87, ..., 62, 50, 54]],\n",
       "\n",
       "       [[40, 15, 79, ..., 39, 74, 18],\n",
       "        [64,  5, 18, ..., 20, 63, 34],\n",
       "        [43, 91, 70, ..., 64, 48, 95],\n",
       "        ...,\n",
       "        [60,  8, 21, ...,  3, 34, 20],\n",
       "        [ 9,  7, 32, ..., 59, 75,  8],\n",
       "        [60, 12, 54, ...,  6, 29, 67]]])"
      ]
     },
     "execution_count": 4,
     "metadata": {},
     "output_type": "execute_result"
    }
   ],
   "source": [
    "pickle.dump(arr, open('tmp/arr.pkl', 'wb'))\n",
    "arr2 = pickle.load(open('tmp/arr.pkl', 'rb'))\n",
    "arr2[:2]"
   ]
  },
  {
   "cell_type": "markdown",
   "metadata": {
    "slideshow": {
     "slide_type": "subslide"
    }
   },
   "source": [
    "An advantage of pickles is that you might embed an array inside other structures, and pickle will handle that."
   ]
  },
  {
   "cell_type": "code",
   "execution_count": 5,
   "metadata": {
    "slideshow": {
     "slide_type": "fragment"
    }
   },
   "outputs": [
    {
     "name": "stdout",
     "output_type": "stream",
     "text": [
      "b'\\x80\\x04\\x95\\x92\\x00\\x00\\x00\\x00\\x00\\x00\\x00}\\x94(\\x8c\\x05array\\x94\\x8c\\x15numpy.core.'\n",
      "Description: A million random integers\n",
      "Extra data: [0. 1. 2. 3. 4.]\n"
     ]
    }
   ],
   "source": [
    "data = {'array': arr,\n",
    "        'description': \"A million random integers\",\n",
    "        'list': [5.4, 9.1, 3.4],\n",
    "        'another_array': np.arange(5.0)}\n",
    "\n",
    "data_bytes = pickle.dumps(data)\n",
    "print(data_bytes[:35])\n",
    "\n",
    "new_data = pickle.loads(data_bytes)\n",
    "print(\"Description:\", new_data['description'])\n",
    "print(\"Extra data:\", new_data['another_array'])"
   ]
  },
  {
   "cell_type": "markdown",
   "metadata": {
    "slideshow": {
     "slide_type": "slide"
    }
   },
   "source": [
    "# Serializing with `np.savetxt()`\n",
    "\n",
    "For NumPy arrays that are 1-D or 2-D, you can save them as delimited files with the `savetxt()` function.  This is a convenient way to save data to CSV or TSV that might be read by DataFrame libraries or similar tools.  However, multi-dimensional arrays need to be reduced to 2-D to be stored in this manner."
   ]
  },
  {
   "cell_type": "code",
   "execution_count": 6,
   "metadata": {
    "slideshow": {
     "slide_type": "subslide"
    }
   },
   "outputs": [],
   "source": [
    "np.savetxt('tmp/arr-txt.tsv', \n",
    "           arr.reshape(100_000, 10),\n",
    "           delimiter='\\t',\n",
    "           fmt='%d',\n",
    "           header='Original shape: (100, 100, 100)',\n",
    "           comments='# ')"
   ]
  },
  {
   "cell_type": "code",
   "execution_count": 7,
   "metadata": {
    "slideshow": {
     "slide_type": "fragment"
    }
   },
   "outputs": [
    {
     "name": "stdout",
     "output_type": "stream",
     "text": [
      "# Original shape: (100, 100, 100)\r\n",
      "87\t32\t7\t44\t5\t52\t55\t47\t71\t1\r\n",
      "31\t71\t64\t13\t68\t66\t76\t28\t47\t20\r\n",
      "93\t21\t74\t20\t34\t29\t4\t72\t17\t68\r\n",
      "36\t72\t57\t76\t69\t62\t39\t83\t57\t72\r\n",
      "91\t45\t25\t82\t94\t25\t34\t36\t50\t98\r\n",
      "11\t62\t71\t94\t61\t28\t30\t94\t61\t93\r\n",
      "72\t2\t47\t67\t56\t10\t50\t45\t82\t35\r\n",
      "93\t66\t98\t35\t63\t64\t36\t42\t4\t82\r\n",
      "62\t18\t44\t14\t48\t14\t99\t77\t43\t95\r\n"
     ]
    }
   ],
   "source": [
    "!head tmp/arr-txt.tsv"
   ]
  },
  {
   "cell_type": "markdown",
   "metadata": {
    "slideshow": {
     "slide_type": "slide"
    }
   },
   "source": [
    "# Serializing with `np.save()`\n",
    "\n",
    "The native NumPy serialization format is very simple and directly represents arrays on disk.  An `.npy` file is *slightly* faster to write than a pickle, and is *slightly* smaller on disk.  These differences are minimal and are swamped by disk caching effects and data size, respectively.  The actual advantage of `.npy` is precisely what it *does not* do; reading a serialized array will never instantiate custom classes, will never execute arbitrary code, and will never contain structures other than arrays."
   ]
  },
  {
   "cell_type": "code",
   "execution_count": 8,
   "metadata": {
    "slideshow": {
     "slide_type": "fragment"
    }
   },
   "outputs": [
    {
     "name": "stdout",
     "output_type": "stream",
     "text": [
      "CPU times: user 5.81 ms, sys: 8.29 ms, total: 14.1 ms\n",
      "Wall time: 12.9 ms\n"
     ]
    }
   ],
   "source": [
    "%time np.save('tmp/arr.npy', arr)"
   ]
  },
  {
   "cell_type": "code",
   "execution_count": 9,
   "metadata": {
    "slideshow": {
     "slide_type": "subslide"
    }
   },
   "outputs": [
    {
     "data": {
      "text/plain": [
       "array([[[87, 32,  7, ..., 25, 94, 44],\n",
       "        [12, 13, 87, ..., 56, 97, 61],\n",
       "        [36, 19, 75, ..., 41, 69, 95],\n",
       "        ...,\n",
       "        [61,  7, 25, ...,  7, 63, 29],\n",
       "        [ 7, 24, 75, ..., 86, 81, 13],\n",
       "        [75, 55, 87, ..., 62, 50, 54]],\n",
       "\n",
       "       [[40, 15, 79, ..., 39, 74, 18],\n",
       "        [64,  5, 18, ..., 20, 63, 34],\n",
       "        [43, 91, 70, ..., 64, 48, 95],\n",
       "        ...,\n",
       "        [60,  8, 21, ...,  3, 34, 20],\n",
       "        [ 9,  7, 32, ..., 59, 75,  8],\n",
       "        [60, 12, 54, ...,  6, 29, 67]]])"
      ]
     },
     "execution_count": 9,
     "metadata": {},
     "output_type": "execute_result"
    }
   ],
   "source": [
    "arr3 = np.load('tmp/arr.npy')\n",
    "arr3[:2]"
   ]
  },
  {
   "cell_type": "markdown",
   "metadata": {
    "slideshow": {
     "slide_type": "slide"
    }
   },
   "source": [
    "# Serializing with `np.savez` and `np.savez_compressed`\n",
    "\n",
    "An enhancement to the `.npy` format is the `.npz` format.  This uses a zipfile wrapper to aggregate multiple arrays in the same file.  Again, pickle could do this by putting them inside a dict or a list; the restriction is exactly the advantage for some cases.  In general, the compressed version is to be preferred in almost all cases; for the last decade, the extra CPU cycles to perform compression have been almost always faster than the extra time required to write more data to disk."
   ]
  },
  {
   "cell_type": "code",
   "execution_count": 10,
   "metadata": {
    "slideshow": {
     "slide_type": "fragment"
    }
   },
   "outputs": [],
   "source": [
    "np.savez('tmp/arr', arr, data['another_array'])\n",
    "np.savez_compressed('tmp/arr-compress', arr, data['another_array'])"
   ]
  },
  {
   "cell_type": "markdown",
   "metadata": {
    "slideshow": {
     "slide_type": "subslide"
    }
   },
   "source": [
    "The multiple arrays are available in a dict-like interface, and simply named as `arr_0`, `arr_1`, and so on.  You must store any mapping to the variable names used for these by separate means."
   ]
  },
  {
   "cell_type": "code",
   "execution_count": 11,
   "metadata": {
    "slideshow": {
     "slide_type": "fragment"
    }
   },
   "outputs": [
    {
     "name": "stdout",
     "output_type": "stream",
     "text": [
      "arr_0 (100, 100, 100) int64\n",
      "arr_1 (5,) float64\n",
      "[0. 1. 2. 3. 4.]\n"
     ]
    }
   ],
   "source": [
    "arr_data = np.load('tmp/arr.npz')\n",
    "for name in arr_data:\n",
    "    print(name, arr_data[name].shape, arr_data[name].dtype)\n",
    "\n",
    "print(arr_data['arr_1'])"
   ]
  },
  {
   "cell_type": "markdown",
   "metadata": {
    "slideshow": {
     "slide_type": "slide"
    }
   },
   "source": [
    "# File sizes\n",
    "\n",
    "We serialized the same data using several different formats.  The CPU times taken for all of them are neglibigle; there are some notable patterns in disk usage.  "
   ]
  },
  {
   "cell_type": "code",
   "execution_count": 12,
   "metadata": {
    "slideshow": {
     "slide_type": "fragment"
    }
   },
   "outputs": [
    {
     "name": "stdout",
     "output_type": "stream",
     "text": [
      "total 27516\r\n",
      "drwxr-xr-x 2 dmertz dmertz    4096 Jun 28 15:11 .\r\n",
      "drwxr-xr-x 7 dmertz dmertz    4096 Jun 28 13:56 ..\r\n",
      "-rw-r--r-- 1 dmertz dmertz 1244755 Jun 28 15:11 arr-compress.npz\r\n",
      "-rw-r--r-- 1 dmertz dmertz 8000128 Jun 28 15:11 arr.npy\r\n",
      "-rw-r--r-- 1 dmertz dmertz 8000546 Jun 28 15:11 arr.npz\r\n",
      "-rw-r--r-- 1 dmertz dmertz 8000165 Jun 28 15:11 arr.pkl\r\n",
      "-rw-r--r-- 1 dmertz dmertz 2909133 Jun 28 15:11 arr-txt.tsv\r\n"
     ]
    }
   ],
   "source": [
    "!ls -la tmp"
   ]
  },
  {
   "cell_type": "markdown",
   "metadata": {
    "slideshow": {
     "slide_type": "subslide"
    }
   },
   "source": [
    "Notice the initially surprising fact that the text format is not the largest.  Because all of our integers were only two digits, they were each stored with two bytes for the numbers plus one for the delimiter.  In contrast, an int64 value requires 8 bytes to store uncompressed.  If the data contained values closer to `sys.maxsize`, i.e. 9,223,372,036,854,775,807, the size of the text version could easily become larger."
   ]
  }
 ],
 "metadata": {
  "celltoolbar": "Slideshow",
  "kernelspec": {
   "display_name": "Python 3",
   "language": "python",
   "name": "python3"
  },
  "language_info": {
   "codemirror_mode": {
    "name": "ipython",
    "version": 3
   },
   "file_extension": ".py",
   "mimetype": "text/x-python",
   "name": "python",
   "nbconvert_exporter": "python",
   "pygments_lexer": "ipython3",
   "version": "3.8.2"
  }
 },
 "nbformat": 4,
 "nbformat_minor": 4
}
